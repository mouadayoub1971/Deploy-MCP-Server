{
  "cells": [
    {
      "cell_type": "markdown",
      "metadata": {
        "id": "UbxQVjd4853U"
      },
      "source": [
        "# Imports"
      ]
    },
    {
      "cell_type": "code",
      "execution_count": null,
      "metadata": {
        "id": "K-OHogYf7mYj"
      },
      "outputs": [],
      "source": [
        "import torch\n",
        "from transformers import AutoTokenizer, AutoModelForCausalLM, pipeline\n",
        "import huggingface_hub\n",
        "import json"
      ]
    },
    {
      "cell_type": "code",
      "execution_count": null,
      "metadata": {
        "id": "a9-vyKkv-HN0"
      },
      "outputs": [],
      "source": [
        "huggingface_hub.login(\"\") # Token removed for security. Use environment variable or input method.\n",
        "# Example: import os; token=os.getenv('HUGGINGFACE_TOKEN')"
      ]
    },
    {
      "cell_type": "code",
      "execution_count": null,
      "metadata": {
        "id": "Ydia3pi_9ESI"
      },
      "outputs": [],
      "source": []
    },
    {
      "cell_type": "markdown",
      "metadata": {
        "id": "sVU3AwIK9EkB"
      },
      "source": [
        "# Load Model"
      ]
    },
    {
      "cell_type": "code",
      "execution_count": null,
      "metadata": {
        "colab": {
          "base_uri": "https://localhost:8080/",
          "height": 354,
          "referenced_widgets": [
            "bf270e01d349468ab76009de684ca4b2",
            "762ca7863411441f9528aba9ebcb55de",
            "c6a2b045751b49548b076efbf3013174",
            "57737e476c8f495b9ab185e008ee9dae",
            "931825a84bf24c74bd7ddf694292c20c",
            "fcc7b1f89481405996357b173dfa51f4",
            "504b48ab7c1143d68709e80f7dbfed73",
            "415254cb0dcd4210a808c3b101813883",
            "b20bbd3f1cbd4e4c8a4622487ae39c9c",
            "f2c047752bb541e2a08108f295968e57",
            "eca817ce7f1b464f9257f21af35f3c72",
            "b358e236ba8c49b589a2050874c61902",
            "436cb5e51fa94a4fa3ca0a4905877b12",
            "a09e6afe8f9146318818710774cd5c11",
            "0437c7f4a88e456ca407eaa68a692a8c",
            "8db8e3c50ec2405c8f6053f34eed529b",
            "16a4e7b0705f4cd286866f9c9dcd4a7f",
            "6048aa96eb7b4748b257c4e36949abff",
            "27d39c5889bb4f34878d84f754245859",
            "14a719097f3e4195a20fdfef9a22cb4f",
            "f5f610efebb04fe48e6265e1b1bc2e1b",
            "a3bf835d9cad4c4daa457b841232a152",
            "3e8c2f708d2347aa9109b6aa1986858a",
            "764774df10094e6d9718e7145294a02c",
            "351863e5fd4c401fa93e4fbafbf517af",
            "fe42aa556b6a4df785c06bd15d625f8d",
            "2c6ec6cdd66a40ce853909de125d6a4c",
            "2a2f82e7c4a14f3a87299bb9995a7691",
            "b372ac071e01430c926d3e2c2701b8b8",
            "f6153841133c49a58b05258787656e13",
            "d8972886fd624eaea5b28e8a6c0dda41",
            "a9f5b38cec004797ade10d31e2586bd0",
            "a16ccbc5687a4c80aa56b789207a847d",
            "738446add78d4946a5877fa9b00b92c5",
            "cdb5a86316624e27aee87279dbecb2ac",
            "13857a463e704bdda2bbcb2a3a7ee07f",
            "6c4181a211c04b6183ab6008698d6802",
            "a1bf2431b43a4765b63746ac74903af1",
            "0b185d0616ab4341a1e09966812a6b4e",
            "155d98071c024d73be47195cefc417a0",
            "f89f03db528247d8a8ee42072d818e4e",
            "c2c8f166202243358b7f7ce01aab4be3",
            "e8de499d146e496da14027a70db218e9",
            "47427adf3cb447c3a115de604d082706",
            "3d0577430c364a9f829faf1e089a2069",
            "071c871dae734e18b60be77764a5e48b",
            "ba89e69a3c7d465d89447d8478df1337",
            "2d935ff76cd8442096bf3666937f575a",
            "75249d98d7434df080e373558012307b",
            "d5fd3018fcaf409aaad397b005849d34",
            "322ee1b096584353992b129c6ececc92",
            "48f9b299a89a46f0a6d4d58ec927697e",
            "dd7e1700539d4001829583cc984c9a37",
            "2d4ed9562ebe4c62bd20164b74327bff",
            "8b40324d848e474bbafefd49921b4aab",
            "89c0b697cc50420fb712c2ba2bc00b8d",
            "c1c175f95d4541e1aa049f1ea8ab46b6",
            "50d6303ae9204951a70e0c8a16fdc0a1",
            "43f07a1b8b714b75a6ff85ad33890e1a",
            "3358efb1735c4bfcb9e5b81787027bca",
            "1b63500525a74c138bd4fb152053a88d",
            "0cd9e13c213245af98dec4f5eb008f3a",
            "d946fed5cb61458fa00723449e6705b7",
            "9e2f6a1972024487b8d95315939db1a7",
            "a0cfadc8d9394260bf6291108d6626ea",
            "c503e6aa59c14a7c97b84e9e463e57af",
            "4efc7876cc804204b0a4154b67b84af4",
            "d0862abff81046b69eaa676dfca8537e",
            "063f590941b24ca996f196b442029498",
            "f8b90274efc14aef828b5da3e6444252",
            "a47c3f71c635479aba79404df87ab2e9",
            "3ff4191ebd5f4b508ca03718f55dd364",
            "9b2c3cc5cc074f95a0000e1148b5b1bd",
            "f93f550365e5423d9c98a89d5bd685d9",
            "2bd92dcde49e4fbab91539b75f86374a",
            "2f31437573e547cd8c009db3c45d6288",
            "4e5f8757170144959c400ab455359486",
            "e5ecca5bb40944a7a94b327961423fa6",
            "e9cedcbe8fe049759ff1263e9700bc36",
            "d53e3b04e6c049bc80b920a92a4d1c3a",
            "12c2f2ba870d48ec837b2121bbb95437",
            "55a5a19217904aa480a9610ee37a22eb",
            "c4fbc401280442239c9e2cbd0f482a08",
            "62ecb82f77374d138b937307f3da141c",
            "b64bc16e5fe74e7d8ac20ae2924aaffd",
            "1fffd50fced740c496e2461b5f9bb6f4",
            "9c8e87637bc544ce8c74d40bc9979eb1",
            "b2dde49487e7474797e3f4acd0020407",
            "679bfaa26de14cf2b0aa27f47bf1fa7d",
            "9cbedab40b8d4c81acf9e7a94a8d7d90",
            "eeb5f323e20c48d8927cddb761b2ac27",
            "eecd99b4a71b41eda8418c38c5bbcd5b",
            "2945064d4c554728b68d0578b4d45d15",
            "ebcb525af1c047bfa01303aff8540edf",
            "1ce68f55f2e849a9a73c965f9e89c023",
            "4c6f1c7485bd483a8679734bc9929be6",
            "5acfd92706534467aa43d20a71c20911",
            "08a3b0ceb8d14b38a28913a05c371bba",
            "f5b25b4bcbd64ff9b089e9f1e35b4ab3",
            "29cc8dce46aa420796ec983e963521e6",
            "6473500752dd4945aca3f1ff573105d1",
            "4ac14c1047e142e1a7d5eb6e42a5f8b7",
            "1bba73116b8e4045912551dc8571828c",
            "9743b98e63c3449cbbc8de4570e06636",
            "8accfef006a846b9bad482626ceb74ff",
            "936cc09b350c4c2d9dccbcce69c7e1f4",
            "3ad8f3fbb09e45eca246de5d01d7d47c",
            "de528303f15645d299cc6e9361af86d4",
            "bd4a545b355c4aeba9dae755dc730b76",
            "4b478a7a9a5c439e9ea7307940b091b8"
          ]
        },
        "id": "EtVvTKgt9EP8",
        "outputId": "3a270cb3-b2ab-4b00-f14c-660e36b182ec"
      },
      "outputs": [
        {
          "data": {
            "application/vnd.jupyter.widget-view+json": {
              "model_id": "bf270e01d349468ab76009de684ca4b2",
              "version_major": 2,
              "version_minor": 0
            },
            "text/plain": [
              "config.json:   0%|          | 0.00/878 [00:00<?, ?B/s]"
            ]
          },
          "metadata": {},
          "output_type": "display_data"
        },
        {
          "data": {
            "application/vnd.jupyter.widget-view+json": {
              "model_id": "b358e236ba8c49b589a2050874c61902",
              "version_major": 2,
              "version_minor": 0
            },
            "text/plain": [
              "model.safetensors.index.json:   0%|          | 0.00/20.9k [00:00<?, ?B/s]"
            ]
          },
          "metadata": {},
          "output_type": "display_data"
        },
        {
          "data": {
            "application/vnd.jupyter.widget-view+json": {
              "model_id": "3e8c2f708d2347aa9109b6aa1986858a",
              "version_major": 2,
              "version_minor": 0
            },
            "text/plain": [
              "Fetching 2 files:   0%|          | 0/2 [00:00<?, ?it/s]"
            ]
          },
          "metadata": {},
          "output_type": "display_data"
        },
        {
          "data": {
            "application/vnd.jupyter.widget-view+json": {
              "model_id": "738446add78d4946a5877fa9b00b92c5",
              "version_major": 2,
              "version_minor": 0
            },
            "text/plain": [
              "model-00001-of-00002.safetensors:   0%|          | 0.00/4.97G [00:00<?, ?B/s]"
            ]
          },
          "metadata": {},
          "output_type": "display_data"
        },
        {
          "data": {
            "application/vnd.jupyter.widget-view+json": {
              "model_id": "3d0577430c364a9f829faf1e089a2069",
              "version_major": 2,
              "version_minor": 0
            },
            "text/plain": [
              "model-00002-of-00002.safetensors:   0%|          | 0.00/1.46G [00:00<?, ?B/s]"
            ]
          },
          "metadata": {},
          "output_type": "display_data"
        },
        {
          "data": {
            "application/vnd.jupyter.widget-view+json": {
              "model_id": "89c0b697cc50420fb712c2ba2bc00b8d",
              "version_major": 2,
              "version_minor": 0
            },
            "text/plain": [
              "Loading checkpoint shards:   0%|          | 0/2 [00:00<?, ?it/s]"
            ]
          },
          "metadata": {},
          "output_type": "display_data"
        },
        {
          "data": {
            "application/vnd.jupyter.widget-view+json": {
              "model_id": "4efc7876cc804204b0a4154b67b84af4",
              "version_major": 2,
              "version_minor": 0
            },
            "text/plain": [
              "generation_config.json:   0%|          | 0.00/189 [00:00<?, ?B/s]"
            ]
          },
          "metadata": {},
          "output_type": "display_data"
        },
        {
          "data": {
            "application/vnd.jupyter.widget-view+json": {
              "model_id": "e5ecca5bb40944a7a94b327961423fa6",
              "version_major": 2,
              "version_minor": 0
            },
            "text/plain": [
              "tokenizer_config.json:   0%|          | 0.00/54.5k [00:00<?, ?B/s]"
            ]
          },
          "metadata": {},
          "output_type": "display_data"
        },
        {
          "data": {
            "application/vnd.jupyter.widget-view+json": {
              "model_id": "679bfaa26de14cf2b0aa27f47bf1fa7d",
              "version_major": 2,
              "version_minor": 0
            },
            "text/plain": [
              "tokenizer.json:   0%|          | 0.00/9.09M [00:00<?, ?B/s]"
            ]
          },
          "metadata": {},
          "output_type": "display_data"
        },
        {
          "data": {
            "application/vnd.jupyter.widget-view+json": {
              "model_id": "29cc8dce46aa420796ec983e963521e6",
              "version_major": 2,
              "version_minor": 0
            },
            "text/plain": [
              "special_tokens_map.json:   0%|          | 0.00/296 [00:00<?, ?B/s]"
            ]
          },
          "metadata": {},
          "output_type": "display_data"
        },
        {
          "name": "stderr",
          "output_type": "stream",
          "text": [
            "Device set to use cuda\n"
          ]
        }
      ],
      "source": [
        "model_name= 'meta-llama/Llama-3.2-3B-Instruct'\n",
        "\n",
        "torch.random.manual_seed(0)\n",
        "model = AutoModelForCausalLM.from_pretrained(\n",
        "    model_name,\n",
        "    device_map=\"cuda\",\n",
        "    torch_dtype='auto',\n",
        "    trust_remote_code=True\n",
        ")\n",
        "\n",
        "\n",
        "tokenizer = AutoTokenizer.from_pretrained(model_name)\n",
        "tokenizer.pad_token_id = tokenizer.eos_token_id\n",
        "\n",
        "pipe = pipeline(\n",
        "    'text-generation',\n",
        "    model=model,\n",
        "    tokenizer=tokenizer,\n",
        ")"
      ]
    },
    {
      "cell_type": "code",
      "execution_count": null,
      "metadata": {
        "id": "5QYhkp2G-OT_"
      },
      "outputs": [],
      "source": []
    },
    {
      "cell_type": "code",
      "execution_count": null,
      "metadata": {
        "colab": {
          "base_uri": "https://localhost:8080/"
        },
        "id": "yhD1AQU0-OR3",
        "outputId": "9a697706-f89e-46cf-c846-909abce3eff3"
      },
      "outputs": [
        {
          "name": "stderr",
          "output_type": "stream",
          "text": [
            "The following generation flags are not valid and may be ignored: ['temperature', 'top_p']. Set `TRANSFORMERS_VERBOSITY=info` for more details.\n"
          ]
        }
      ],
      "source": [
        "messages = [\n",
        "    {\"role\": \"user\", \"content\": \"Can you provide instructions onhow to create a cake?\"},\n",
        "]\n",
        "\n",
        "generation_args = {\n",
        "    \"max_new_tokens\" : 2000,\n",
        "    \"return_full_text\": False,\n",
        "    \"do_sample\":False\n",
        "}\n",
        "\n",
        "output = pipe(messages, **generation_args)"
      ]
    },
    {
      "cell_type": "code",
      "execution_count": null,
      "metadata": {
        "colab": {
          "base_uri": "https://localhost:8080/"
        },
        "id": "uzBwurfY-OPd",
        "outputId": "20e659b7-5024-453d-af1c-68b18d7f8e7e"
      },
      "outputs": [
        {
          "name": "stdout",
          "output_type": "stream",
          "text": [
            "Here's a step-by-step guide on how to create a basic cake:\n",
            "\n",
            "**Ingredients:**\n",
            "\n",
            "For a classic vanilla cake:\n",
            "\n",
            "* 2 cups all-purpose flour\n",
            "* 1 teaspoon baking powder\n",
            "* 1 teaspoon salt\n",
            "* 1 cup granulated sugar\n",
            "* 1/2 cup unsalted butter, softened\n",
            "* 2 large eggs\n",
            "* 2 teaspoons vanilla extract\n",
            "* 1 cup whole milk, at room temperature\n",
            "\n",
            "For the frosting (optional):\n",
            "\n",
            "* 1 cup unsalted butter, softened\n",
            "* 2 cups powdered sugar\n",
            "* 1 teaspoon vanilla extract\n",
            "* 2-4 tablespoons milk or heavy cream\n",
            "\n",
            "**Equipment:**\n",
            "\n",
            "* 9-inch round cake pan\n",
            "* Non-stick cooking spray or parchment paper\n",
            "* Electric mixer (stand or handheld)\n",
            "* Whisk\n",
            "* Measuring cups and spoons\n",
            "* Rubber spatula\n",
            "\n",
            "**Instructions:**\n",
            "\n",
            "**Step 1: Preheat and Prepare the Pan**\n",
            "\n",
            "1. Preheat your oven to 350°F (180°C).\n",
            "2. Spray the 9-inch round cake pan with non-stick cooking spray or line it with parchment paper.\n",
            "\n",
            "**Step 2: Mix the Dry Ingredients**\n",
            "\n",
            "1. In a medium bowl, whisk together the flour, baking powder, and salt. Set aside.\n",
            "\n",
            "**Step 3: Mix the Wet Ingredients**\n",
            "\n",
            "1. In a large mixing bowl, use an electric mixer to cream together the sugar and butter until light and fluffy.\n",
            "2. Beat in the eggs one at a time, allowing each egg to fully incorporate before adding the next.\n",
            "3. Beat in the vanilla extract.\n",
            "\n",
            "**Step 4: Combine the Wet and Dry Ingredients**\n",
            "\n",
            "1. With the mixer on low speed, gradually add the flour mixture to the wet ingredients in three parts, alternating with the milk, beginning and ending with the flour mixture. Beat just until combined.\n",
            "\n",
            "**Step 5: Pour the Batter into the Pan**\n",
            "\n",
            "1. Pour the cake batter into the prepared pan and smooth the top.\n",
            "\n",
            "**Step 6: Bake the Cake**\n",
            "\n",
            "1. Bake the cake for 25-30 minutes, or until a toothpick inserted into the center comes out clean.\n",
            "2. Remove the cake from the oven and let it cool in the pan for 5 minutes.\n",
            "\n",
            "**Step 7: Cool the Cake**\n",
            "\n",
            "1. Transfer the cake to a wire rack to cool completely.\n",
            "\n",
            "**Step 8: Make the Frosting (Optional)**\n",
            "\n",
            "1. Beat the softened butter in a large mixing bowl until light and fluffy.\n",
            "2. Gradually add the powdered sugar, beating until smooth and creamy.\n",
            "3. Beat in the vanilla extract.\n",
            "4. Add the milk or heavy cream, 1 tablespoon at a time, until the frosting reaches the desired consistency.\n",
            "\n",
            "**Step 9: Assemble and Frost the Cake (Optional)**\n",
            "\n",
            "1. Once the cake is completely cool, place one cake layer on a serving plate or cake stand.\n",
            "2. Spread a layer of frosting on top of the cake layer.\n",
            "3. Place the second cake layer on top of the frosting.\n",
            "4. Frost the top and sides of the cake with the remaining frosting.\n",
            "\n",
            "**Tips and Variations:**\n",
            "\n",
            "* To ensure even baking, make sure the cake pan is level and the oven is at the correct temperature.\n",
            "* To add flavor, try adding different extracts (e.g., almond, coconut, or lemon) or spices (e.g., cinnamon or nutmeg) to the batter.\n",
            "* To make a layer cake, repeat the process to create multiple layers, then frost and decorate as desired.\n",
            "\n",
            "I hope this helps! Let me know if you have any questions or if you'd like any variations on this recipe.\n"
          ]
        }
      ],
      "source": [
        "print(output[0][\"generated_text\"])"
      ]
    },
    {
      "cell_type": "code",
      "execution_count": null,
      "metadata": {
        "id": "LeMbVjqk-ONM"
      },
      "outputs": [],
      "source": []
    },
    {
      "cell_type": "markdown",
      "metadata": {
        "id": "FziNZLvSBLxY"
      },
      "source": [
        "# Response Function"
      ]
    },
    {
      "cell_type": "code",
      "execution_count": null,
      "metadata": {
        "id": "6_MWmENz-OK7"
      },
      "outputs": [],
      "source": [
        "def get_response_from_messages_hf(pipe,messages,temperature=0):\n",
        "  sampling = False if temperature == 0 else True\n",
        "\n",
        "  generation_args = {\n",
        "      \"max_new_tokens\" : 2000,\n",
        "      \"return_full_text\": False,\n",
        "      \"do_sample\":sampling\n",
        "  }\n",
        "  if temperature != 0:\n",
        "    generation_args[\"temperature\"] = temperature\n",
        "\n",
        "  output = pipe(messages, **generation_args)\n",
        "  return output[0][\"generated_text\"]"
      ]
    },
    {
      "cell_type": "code",
      "execution_count": null,
      "metadata": {
        "colab": {
          "base_uri": "https://localhost:8080/"
        },
        "id": "UbZAtIcY-OIc",
        "outputId": "ac427ca1-b1d1-4ca5-8779-9789e0136726"
      },
      "outputs": [
        {
          "name": "stderr",
          "output_type": "stream",
          "text": [
            "The following generation flags are not valid and may be ignored: ['temperature', 'top_p']. Set `TRANSFORMERS_VERBOSITY=info` for more details.\n"
          ]
        },
        {
          "name": "stdout",
          "output_type": "stream",
          "text": [
            "Here's a step-by-step guide on how to create a basic cake:\n",
            "\n",
            "**Ingredients:**\n",
            "\n",
            "For a classic vanilla cake:\n",
            "\n",
            "* 2 cups all-purpose flour\n",
            "* 1 teaspoon baking powder\n",
            "* 1 teaspoon salt\n",
            "* 1 cup granulated sugar\n",
            "* 1/2 cup unsalted butter, softened\n",
            "* 2 large eggs\n",
            "* 2 teaspoons vanilla extract\n",
            "* 1 cup whole milk, at room temperature\n",
            "\n",
            "For the frosting (optional):\n",
            "\n",
            "* 1 cup unsalted butter, softened\n",
            "* 2 cups powdered sugar\n",
            "* 1 teaspoon vanilla extract\n",
            "* 2-4 tablespoons milk or heavy cream\n",
            "\n",
            "**Equipment:**\n",
            "\n",
            "* 9-inch round cake pan (greased and floured)\n",
            "* Mixing bowls\n",
            "* Measuring cups and spoons\n",
            "* Electric mixer (stand or handheld)\n",
            "* Whisk\n",
            "* Rubber spatula\n",
            "* Cooling rack\n",
            "\n",
            "**Instructions:**\n",
            "\n",
            "**Step 1: Preheat and Prepare the Pan**\n",
            "\n",
            "1. Preheat your oven to 350°F (180°C).\n",
            "2. Grease the 9-inch round cake pan with butter or cooking spray.\n",
            "3. Flour the pan, tapping out any excess.\n",
            "\n",
            "**Step 2: Mix the Dry Ingredients**\n",
            "\n",
            "1. In a medium bowl, whisk together the flour, baking powder, and salt. Set aside.\n",
            "\n",
            "**Step 3: Mix the Wet Ingredients**\n",
            "\n",
            "1. In a large mixing bowl, use an electric mixer to cream together the sugar and butter until light and fluffy.\n",
            "2. Beat in the eggs one at a time, allowing each egg to fully incorporate before adding the next.\n",
            "3. Beat in the vanilla extract.\n",
            "\n",
            "**Step 4: Combine the Wet and Dry Ingredients**\n",
            "\n",
            "1. With the mixer on low speed, gradually add the flour mixture to the wet ingredients in three parts, alternating with the milk, beginning and ending with the flour mixture. Beat just until combined.\n",
            "\n",
            "**Step 5: Pour the Batter into the Pan**\n",
            "\n",
            "1. Pour the cake batter into the prepared pan and smooth the top.\n",
            "\n",
            "**Step 6: Bake the Cake**\n",
            "\n",
            "1. Bake the cake for 25-30 minutes, or until a toothpick inserted into the center comes out clean.\n",
            "2. Remove the cake from the oven and let it cool in the pan for 5 minutes.\n",
            "\n",
            "**Step 7: Cool the Cake**\n",
            "\n",
            "1. Transfer the cake to a cooling rack to cool completely.\n",
            "\n",
            "**Step 8: Make the Frosting (Optional)**\n",
            "\n",
            "1. Beat the softened butter in a large mixing bowl until light and fluffy.\n",
            "2. Gradually add the powdered sugar, beating until smooth and creamy.\n",
            "3. Beat in the vanilla extract.\n",
            "4. Add the milk or heavy cream, 1 tablespoon at a time, until the frosting reaches the desired consistency.\n",
            "\n",
            "**Step 9: Assemble and Decorate the Cake**\n",
            "\n",
            "1. Once the cake is completely cool, place it on a serving plate or cake stand.\n",
            "2. Spread the frosting over the top and sides of the cake, if using.\n",
            "3. Decorate the cake as desired with additional frosting, sprinkles, or other toppings.\n",
            "\n",
            "**Tips and Variations:**\n",
            "\n",
            "* To ensure the cake is evenly baked, rotate the pan halfway through the baking time.\n",
            "* For a moist and tender crumb, don't overmix the batter.\n",
            "* To add flavor, try adding different extracts (e.g., almond, coconut, or lemon) or spices (e.g., cinnamon, nutmeg, or cardamom) to the batter.\n",
            "* For a chocolate cake, simply add 1-2 tablespoons of cocoa powder to the dry ingredients.\n",
            "\n",
            "I hope this helps! Let me know if you have any questions or if you'd like any variations on this recipe.\n"
          ]
        }
      ],
      "source": [
        "messages = [\n",
        "    {\"role\": \"system\", \"content\": \"You are a helpful AI assistant\"},\n",
        "    {\"role\": \"user\", \"content\": \"Can you provide instructions onhow to create a cake?\"},\n",
        "]\n",
        "\n",
        "output = get_response_from_messages_hf(pipe,messages)\n",
        "print(output)"
      ]
    },
    {
      "cell_type": "code",
      "execution_count": null,
      "metadata": {
        "id": "2fe6vvg2-OGN"
      },
      "outputs": [],
      "source": []
    },
    {
      "cell_type": "markdown",
      "metadata": {
        "id": "tAwg46BXCj6j"
      },
      "source": [
        "# OpenAI"
      ]
    },
    {
      "cell_type": "code",
      "execution_count": null,
      "metadata": {
        "id": "KPTgOkXn-OD8"
      },
      "outputs": [],
      "source": [
        "from openai import OpenAI"
      ]
    },
    {
      "cell_type": "code",
      "execution_count": null,
      "metadata": {
        "id": "jQ9zNXZj-OB1"
      },
      "outputs": [],
      "source": [
        "openai_client = OpenAI(\n",
        "    api_key=\"\" # API key removed for security. Use environment variable or input method.\n",
        "    # Example: import os; api_key=os.getenv('OPENAI_API_KEY')\n",
        "    # Or leave blank and set elsewhere.\n",
        " )"
      ]
    },
    {
      "cell_type": "code",
      "execution_count": null,
      "metadata": {
        "id": "4EJgcPGEDaL1"
      },
      "outputs": [],
      "source": [
        "messages = [\n",
        "    {\"role\": \"user\", \"content\": \"What's the capital of France?\"},\n",
        "\n",
        "]\n",
        "output = openai_client.chat.completions.create(\n",
        "    model=\"gpt-4o-mini\",\n",
        "    messages=messages,\n",
        ")"
      ]
    },
    {
      "cell_type": "code",
      "execution_count": null,
      "metadata": {
        "colab": {
          "base_uri": "https://localhost:8080/"
        },
        "id": "-s56jUxIDaJm",
        "outputId": "177fbe6e-e182-4942-ce6d-40b149d2db31"
      },
      "outputs": [
        {
          "name": "stdout",
          "output_type": "stream",
          "text": [
            "ChatCompletion(id='chatcmpl-BqbkZ6bhXIvPuhnAhyGGAk4uX1bli', choices=[Choice(finish_reason='stop', index=0, logprobs=None, message=ChatCompletionMessage(content='The capital of France is Paris.', refusal=None, role='assistant', annotations=[], audio=None, function_call=None, tool_calls=None))], created=1751877867, model='gpt-4o-mini-2024-07-18', object='chat.completion', service_tier='default', system_fingerprint='fp_34a54ae93c', usage=CompletionUsage(completion_tokens=7, prompt_tokens=13, total_tokens=20, completion_tokens_details=CompletionTokensDetails(accepted_prediction_tokens=0, audio_tokens=0, reasoning_tokens=0, rejected_prediction_tokens=0), prompt_tokens_details=PromptTokensDetails(audio_tokens=0, cached_tokens=0)))\n"
          ]
        }
      ],
      "source": [
        "print(output)"
      ]
    },
    {
      "cell_type": "code",
      "execution_count": null,
      "metadata": {
        "colab": {
          "base_uri": "https://localhost:8080/"
        },
        "id": "WZeB-p9BDaHV",
        "outputId": "377e2c6a-2cae-45c5-d1d3-700e70e85a68"
      },
      "outputs": [
        {
          "name": "stdout",
          "output_type": "stream",
          "text": [
            "The capital of France is Paris.\n"
          ]
        }
      ],
      "source": [
        "print(output.choices[0].message.content)"
      ]
    },
    {
      "cell_type": "code",
      "execution_count": null,
      "metadata": {
        "id": "CrbQh_NFDaFV"
      },
      "outputs": [],
      "source": [
        "def get_response_from_messages_openai(openai_client, messages,temperature=0):\n",
        "  output = openai_client.chat.completions.create(\n",
        "      model=\"gpt-4o-mini\",\n",
        "      messages=messages,\n",
        "  )\n",
        "  return output.choices[0].message.content"
      ]
    },
    {
      "cell_type": "code",
      "execution_count": null,
      "metadata": {
        "colab": {
          "base_uri": "https://localhost:8080/"
        },
        "id": "iwJN1KQ8DaDF",
        "outputId": "58880d78-0ee5-4a1c-be97-16463a02221a"
      },
      "outputs": [
        {
          "name": "stdout",
          "output_type": "stream",
          "text": [
            "The capital of France is Paris.\n"
          ]
        }
      ],
      "source": [
        "messages = [\n",
        "    {\"role\": \"user\", \"content\": \"What's the capital of France?\"},\n",
        "]\n",
        "output = get_response_from_messages_openai(openai_client,messages)\n",
        "print(output)"
      ]
    },
    {
      "cell_type": "code",
      "execution_count": null,
      "metadata": {
        "id": "_mETj-WbEbaP"
      },
      "outputs": [],
      "source": []
    },
    {
      "cell_type": "markdown",
      "metadata": {
        "id": "8RpsgaduEuel"
      },
      "source": [
        "# Ask what is my name?"
      ]
    },
    {
      "cell_type": "code",
      "execution_count": null,
      "metadata": {
        "colab": {
          "base_uri": "https://localhost:8080/"
        },
        "id": "7mVdCpUxEbYP",
        "outputId": "e44512e6-83e0-4be0-d149-901bf248c68b"
      },
      "outputs": [
        {
          "name": "stderr",
          "output_type": "stream",
          "text": [
            "The following generation flags are not valid and may be ignored: ['temperature', 'top_p']. Set `TRANSFORMERS_VERBOSITY=info` for more details.\n"
          ]
        },
        {
          "name": "stdout",
          "output_type": "stream",
          "text": [
            "I don't have any information about your name. I'm a text-based AI assistant, and our conversation just started. I don't have any prior knowledge about you. Would you like to tell me your name?\n"
          ]
        }
      ],
      "source": [
        "messages =[\n",
        "    {\"role\": \"system\", \"content\": \"You are a helpful AI assistant.\"},\n",
        "    {\"role\":\"user\",\"content\":\"What's my name?\"}\n",
        "    ]\n",
        "\n",
        "output = get_response_from_messages_hf(pipe,messages)\n",
        "print(output)"
      ]
    },
    {
      "cell_type": "code",
      "execution_count": null,
      "metadata": {
        "id": "84xtgKtnEbV_"
      },
      "outputs": [],
      "source": []
    },
    {
      "cell_type": "markdown",
      "metadata": {
        "id": "adMDSZJqFKkV"
      },
      "source": [
        "### Provide Hard coded context"
      ]
    },
    {
      "cell_type": "code",
      "execution_count": null,
      "metadata": {
        "colab": {
          "base_uri": "https://localhost:8080/"
        },
        "id": "IG1ExWY7EbTv",
        "outputId": "56ca7e35-d00e-4fbd-bf76-5155fdaa741a"
      },
      "outputs": [
        {
          "name": "stderr",
          "output_type": "stream",
          "text": [
            "The following generation flags are not valid and may be ignored: ['temperature', 'top_p']. Set `TRANSFORMERS_VERBOSITY=info` for more details.\n"
          ]
        },
        {
          "name": "stdout",
          "output_type": "stream",
          "text": [
            "Your name is Ben.\n"
          ]
        }
      ],
      "source": [
        "messages =[\n",
        "    {\"role\":\"system\",\"content\":\"You are a helpful AI assistant for a user named Ben\"},\n",
        "    {\"role\":\"user\",\"content\":\"What's my name?\"}\n",
        "    ]\n",
        "\n",
        "output = get_response_from_messages_hf(pipe,messages)\n",
        "print(output)"
      ]
    },
    {
      "cell_type": "code",
      "execution_count": null,
      "metadata": {
        "id": "EZJUKvJVEbRN"
      },
      "outputs": [],
      "source": []
    },
    {
      "cell_type": "markdown",
      "metadata": {
        "id": "W_MEfquoNnfx"
      },
      "source": [
        "# LLM Classification Introduction"
      ]
    },
    {
      "cell_type": "code",
      "execution_count": null,
      "metadata": {
        "colab": {
          "base_uri": "https://localhost:8080/"
        },
        "id": "CZhx4qlzEbOu",
        "outputId": "a9759e80-6e2c-4c8d-acbe-b8db95ccadcf"
      },
      "outputs": [
        {
          "name": "stderr",
          "output_type": "stream",
          "text": [
            "The following generation flags are not valid and may be ignored: ['temperature', 'top_p']. Set `TRANSFORMERS_VERBOSITY=info` for more details.\n"
          ]
        },
        {
          "name": "stdout",
          "output_type": "stream",
          "text": [
            "I would classify your message as \"general feedback\". It's a positive review of the product, but it doesn't specifically mention a technical issue, billing inquiry, or a particular problem that needs to be addressed.\n"
          ]
        }
      ],
      "source": [
        "system_prompt=\"\"\"\n",
        "You are a helpful AI assistant that classifies customer support messages into one of those 3 categories\n",
        "1. techincal issue\n",
        "2. billing inquiry\n",
        "3. general feedback\n",
        "\"\"\"\n",
        "\n",
        "user_message = \"I love this product\"\n",
        "\n",
        "messages =[\n",
        "    {\"role\":\"system\",\"content\":system_prompt},\n",
        "    {\"role\":\"user\",\"content\":user_message}\n",
        "    ]\n",
        "\n",
        "output = get_response_from_messages_hf(pipe,messages)\n",
        "print(output)"
      ]
    },
    {
      "cell_type": "code",
      "execution_count": null,
      "metadata": {
        "id": "Qb2EQ17gOdNr"
      },
      "outputs": [],
      "source": []
    },
    {
      "cell_type": "code",
      "execution_count": null,
      "metadata": {
        "id": "tgO4L_8mOdLb"
      },
      "outputs": [],
      "source": [
        "def send_to_general_feedback(user_message):\n",
        "  print('sent to general feedback')\n",
        "\n",
        "def send_to_billing_inquiry(user_message):\n",
        "  print('sent to billing inquiry')\n",
        "\n",
        "def send_to_technical_issue(user_message):\n",
        "  print('sent to technical issue')"
      ]
    },
    {
      "cell_type": "code",
      "execution_count": null,
      "metadata": {
        "colab": {
          "base_uri": "https://localhost:8080/"
        },
        "id": "7CUETOOZOdI7",
        "outputId": "20364771-ded8-452a-fd95-1db12e68de23"
      },
      "outputs": [
        {
          "name": "stdout",
          "output_type": "stream",
          "text": [
            "sent to general feedback\n"
          ]
        }
      ],
      "source": [
        "if \"general feedback\" in output:\n",
        "  send_to_general_feedback(user_message)\n",
        "elif \"billing inquiry\" in output:\n",
        "  send_to_billing_inquiry(user_message)\n",
        "elif \"technical issue\" in output:\n",
        "  send_to_technical_issue(user_message)"
      ]
    },
    {
      "cell_type": "code",
      "execution_count": null,
      "metadata": {
        "id": "WI0Pd1XBEVQO"
      },
      "outputs": [],
      "source": [
        "# Example of harder output\n",
        "\n",
        "# out of technical issue, billing inquiry and general feedback.\n",
        "# The output category is general feedback"
      ]
    },
    {
      "cell_type": "code",
      "execution_count": null,
      "metadata": {
        "colab": {
          "base_uri": "https://localhost:8080/"
        },
        "id": "kpb_Oqc6Pv_a",
        "outputId": "91f4a5ee-a479-480c-a9e2-10d39322c81f"
      },
      "outputs": [
        {
          "name": "stderr",
          "output_type": "stream",
          "text": [
            "The following generation flags are not valid and may be ignored: ['temperature', 'top_p']. Set `TRANSFORMERS_VERBOSITY=info` for more details.\n"
          ]
        },
        {
          "name": "stdout",
          "output_type": "stream",
          "text": [
            "{\n",
            "  \"category\": \"general feedback\"\n",
            "}\n"
          ]
        }
      ],
      "source": [
        "system_prompt=\"\"\"\n",
        "You are a helpful AI assistant that classifies customer support messages into one of those 3 categories\n",
        "1. techincal issue\n",
        "2. billing inquiry\n",
        "3. general feedback\n",
        "\n",
        "the output should be in a json format like so\n",
        "{\n",
        "  \"category\": \"use one of those 3 categories above\"\n",
        "}\n",
        "\"\"\"\n",
        "\n",
        "user_message = \"I love this product\"\n",
        "\n",
        "messages =[\n",
        "    {\"role\":\"system\",\"content\":system_prompt},\n",
        "    {\"role\":\"user\",\"content\":user_message}\n",
        "    ]\n",
        "\n",
        "output = get_response_from_messages_hf(pipe,messages)\n",
        "print(output)"
      ]
    },
    {
      "cell_type": "code",
      "execution_count": null,
      "metadata": {
        "colab": {
          "base_uri": "https://localhost:8080/"
        },
        "id": "6lbA-wJuPv9p",
        "outputId": "bb25f108-023e-44d0-a7e3-4e3a52dc08db"
      },
      "outputs": [
        {
          "data": {
            "text/plain": [
              "str"
            ]
          },
          "execution_count": 32,
          "metadata": {},
          "output_type": "execute_result"
        }
      ],
      "source": [
        "type(output)"
      ]
    },
    {
      "cell_type": "code",
      "execution_count": null,
      "metadata": {
        "id": "k4GVZ9AXPv7M"
      },
      "outputs": [],
      "source": [
        "output_json = json.loads(output)"
      ]
    },
    {
      "cell_type": "code",
      "execution_count": null,
      "metadata": {
        "colab": {
          "base_uri": "https://localhost:8080/"
        },
        "id": "QJEig8wLPv46",
        "outputId": "7893b718-5868-48f9-b743-c4b244f400db"
      },
      "outputs": [
        {
          "data": {
            "text/plain": [
              "{'category': 'general feedback'}"
            ]
          },
          "execution_count": 34,
          "metadata": {},
          "output_type": "execute_result"
        }
      ],
      "source": [
        "output_json"
      ]
    },
    {
      "cell_type": "code",
      "execution_count": null,
      "metadata": {
        "colab": {
          "base_uri": "https://localhost:8080/",
          "height": 35
        },
        "id": "md_JElrxPv2q",
        "outputId": "19705c6b-51c1-4a0b-ddd6-c3992027812b"
      },
      "outputs": [
        {
          "data": {
            "application/vnd.google.colaboratory.intrinsic+json": {
              "type": "string"
            },
            "text/plain": [
              "'general feedback'"
            ]
          },
          "execution_count": 36,
          "metadata": {},
          "output_type": "execute_result"
        }
      ],
      "source": [
        "output_json['category']"
      ]
    },
    {
      "cell_type": "code",
      "execution_count": null,
      "metadata": {
        "colab": {
          "base_uri": "https://localhost:8080/"
        },
        "id": "k2p-ZmvjPv0b",
        "outputId": "d04cf5f1-eca2-40db-bc1a-eff98a38ff37"
      },
      "outputs": [
        {
          "name": "stdout",
          "output_type": "stream",
          "text": [
            "sent to general feedback\n"
          ]
        }
      ],
      "source": [
        "if \"general feedback\" == output_json['category']:\n",
        "  send_to_general_feedback(user_message)\n",
        "elif \"billing inquiry\" == output_json['category']:\n",
        "  send_to_billing_inquiry(user_message)\n",
        "elif \"technical issue\" == output_json['category']:\n",
        "  send_to_technical_issue(user_message)"
      ]
    },
    {
      "cell_type": "code",
      "execution_count": null,
      "metadata": {
        "id": "KCvgxp4DQ4x0"
      },
      "outputs": [],
      "source": []
    },
    {
      "cell_type": "code",
      "execution_count": null,
      "metadata": {
        "colab": {
          "base_uri": "https://localhost:8080/"
        },
        "id": "NF8w1NKEPvya",
        "outputId": "0e1bbb9e-f9a6-48f2-a02c-38574b054cc9"
      },
      "outputs": [
        {
          "name": "stdout",
          "output_type": "stream",
          "text": [
            "sent to general feedback\n"
          ]
        }
      ],
      "source": [
        "function_dict = {\n",
        "    \"general feedback\": send_to_general_feedback,\n",
        "    \"billing inquiry\": send_to_billing_inquiry,\n",
        "    \"technical issue\": send_to_technical_issue\n",
        "}\n",
        "function_dict[output_json['category']](user_message)"
      ]
    },
    {
      "cell_type": "code",
      "execution_count": null,
      "metadata": {
        "id": "EfxEf9o_StBA"
      },
      "outputs": [],
      "source": []
    },
    {
      "cell_type": "markdown",
      "metadata": {
        "id": "l0Y6sSYxSTIi"
      },
      "source": [
        "### MCP Client steps:\n",
        "1. Know what function are available for use\n",
        "2. Determining if the user prompts requires the output of one of those functions, this is called Prompt intent.\n",
        "3. Lastly run the function and append it's output to the LLM\n"
      ]
    },
    {
      "cell_type": "code",
      "execution_count": null,
      "metadata": {
        "id": "ylRuqa1LSRqE"
      },
      "outputs": [],
      "source": []
    },
    {
      "cell_type": "markdown",
      "metadata": {
        "id": "Gp7YckKaUjoQ"
      },
      "source": [
        "# MCP Development"
      ]
    },
    {
      "cell_type": "code",
      "execution_count": null,
      "metadata": {
        "id": "fLGGSRjFUbIf"
      },
      "outputs": [],
      "source": [
        "def get_user_name():\n",
        "  return \"Ben\"\n",
        "def get_user_age():\n",
        "  return 28"
      ]
    },
    {
      "cell_type": "code",
      "execution_count": null,
      "metadata": {
        "id": "pVaFshvHUtOF"
      },
      "outputs": [],
      "source": [
        "tools = {\n",
        "    \"get_user_name\": {\n",
        "        \"description\": \"This tool returns the user's name\",\n",
        "        \"tool\":get_user_name,\n",
        "        \"parameters\": None,\n",
        "    },\n",
        "    \"get_user_age\": {\n",
        "        \"description\": \"This tool returns the user's age\",\n",
        "        \"tool\":get_user_age,\n",
        "        \"parameters\":None,\n",
        "    }\n",
        "}"
      ]
    },
    {
      "cell_type": "code",
      "execution_count": null,
      "metadata": {
        "colab": {
          "base_uri": "https://localhost:8080/",
          "height": 52
        },
        "id": "sGlbbSxvUtE0",
        "outputId": "9ea9d3e2-e75c-4db9-e463-736e8cd839a1"
      },
      "outputs": [
        {
          "data": {
            "application/vnd.google.colaboratory.intrinsic+json": {
              "type": "string"
            },
            "text/plain": [
              "'{\\'get_user_name\\': {\\'description\\': \"This tool returns the user\\'s name\", \\'tool\\': <function get_user_name at 0x7b22bd2a60c0>, \\'parameters\\': None}, \\'get_user_age\\': {\\'description\\': \"This tool returns the user\\'s age\", \\'tool\\': <function get_user_age at 0x7b22bd2a45e0>, \\'parameters\\': None}}'"
            ]
          },
          "execution_count": 41,
          "metadata": {},
          "output_type": "execute_result"
        }
      ],
      "source": [
        "str(tools)"
      ]
    },
    {
      "cell_type": "code",
      "execution_count": null,
      "metadata": {
        "colab": {
          "base_uri": "https://localhost:8080/"
        },
        "id": "EhCUy17nWPPC",
        "outputId": "cf487047-9064-4136-b01d-f661fd233639"
      },
      "outputs": [
        {
          "name": "stderr",
          "output_type": "stream",
          "text": [
            "The following generation flags are not valid and may be ignored: ['temperature', 'top_p']. Set `TRANSFORMERS_VERBOSITY=info` for more details.\n"
          ]
        },
        {
          "name": "stdout",
          "output_type": "stream",
          "text": [
            "1. The 'get_user_name' tool is a good fit for this request because it directly returns the user's name, which is the user's request.\n",
            " \n",
            "Json Output\n",
            "\n",
            "{\n",
            "  \"tool_name\": \"get_user_name\",\n",
            "  \"parameters\": {}\n",
            "}\n"
          ]
        }
      ],
      "source": [
        "tools_str = str(tools)\n",
        "system_prompt= f\"\"\"\n",
        "You are a system that reads each user message and decides whether to invoke one of the available tools to generate the answer.\n",
        "Not every message requires a tool. Only select a tool when it directly helps respond to the user’s request.\n",
        "\n",
        "The full list of available tools is provided as JSON here:\n",
        "{tools_str}\n",
        "\n",
        "When you respond, follow this pattern:\n",
        "  1.\n",
        "      Reason whether any of the provided tools is a good fit or not.\n",
        "      Reasoning should be 2 sentences or less\n",
        "      Reasoning should end with a new line then \"no tool is needed\" If no tool is a good fit or if no tools are relevant.\n",
        "  2.\n",
        "    On its own line, write: \"Json Output\"\n",
        "  3.\n",
        "    Choose one the following two options:\n",
        "    a. If you determine no tool is needed, simply return an empty json like so {{}}\n",
        "    b. If a tool is needed: provide a JSON object with exactly two keys like the one bellow:\n",
        "      {{\n",
        "        \"tool_name\":\"\" # put here the name of the tool,\n",
        "        \"parameters\":{{}} # parameters in a proper json format, this is going to be empty if there are no parameters.\n",
        "      }}\n",
        "\"\"\"\n",
        "\n",
        "user_message = \"What's my name?\"\n",
        "\n",
        "messages =[\n",
        "    {\"role\":\"system\",\"content\":system_prompt},\n",
        "    {\"role\":\"user\",\"content\":user_message}\n",
        "    ]\n",
        "\n",
        "output = get_response_from_messages_hf(pipe,messages)\n",
        "print(output)"
      ]
    },
    {
      "cell_type": "code",
      "execution_count": null,
      "metadata": {
        "colab": {
          "base_uri": "https://localhost:8080/",
          "height": 35
        },
        "id": "7d6TNgZuWPNB",
        "outputId": "ae00a0cb-974b-4407-eb43-1d97424dcb3a"
      },
      "outputs": [
        {
          "data": {
            "application/vnd.google.colaboratory.intrinsic+json": {
              "type": "string"
            },
            "text/plain": [
              "'get_user_name'"
            ]
          },
          "execution_count": 48,
          "metadata": {},
          "output_type": "execute_result"
        }
      ],
      "source": [
        "output_json = json.loads(output.split('Json Output')[1].strip())\n",
        "output_json['tool_name']"
      ]
    },
    {
      "cell_type": "code",
      "execution_count": null,
      "metadata": {
        "colab": {
          "base_uri": "https://localhost:8080/"
        },
        "id": "uZN6YDjAWPK1",
        "outputId": "6bd64c51-5ce3-4211-d1eb-b442a66c1998"
      },
      "outputs": [
        {
          "name": "stderr",
          "output_type": "stream",
          "text": [
            "The following generation flags are not valid and may be ignored: ['temperature', 'top_p']. Set `TRANSFORMERS_VERBOSITY=info` for more details.\n"
          ]
        },
        {
          "name": "stdout",
          "output_type": "stream",
          "text": [
            "1. The 'get_user_name' tool is not a good fit for this request as it is not relevant to finding the capital of a country. The 'get_user_age' tool is also not relevant for the same reason. \n",
            "no tool is needed\n",
            "\n",
            "Json Output\n",
            "\n",
            "{}\n"
          ]
        }
      ],
      "source": [
        "messages =[\n",
        "    {\"role\":\"system\",\"content\":system_prompt},\n",
        "    {\"role\":\"user\",\"content\":\"What's the capital of france?\"}\n",
        "    ]\n",
        "\n",
        "output = get_response_from_messages_hf(pipe,messages)\n",
        "print(output)"
      ]
    },
    {
      "cell_type": "code",
      "execution_count": null,
      "metadata": {
        "colab": {
          "base_uri": "https://localhost:8080/"
        },
        "id": "RSIH1PrYWPIf",
        "outputId": "97cf728d-56d2-40e0-99d4-aa9c5730cbf6"
      },
      "outputs": [
        {
          "name": "stderr",
          "output_type": "stream",
          "text": [
            "The following generation flags are not valid and may be ignored: ['temperature', 'top_p']. Set `TRANSFORMERS_VERBOSITY=info` for more details.\n"
          ]
        },
        {
          "name": "stdout",
          "output_type": "stream",
          "text": [
            "The 'get_user_age' tool is a good fit for this request.\n",
            "This tool is relevant because it directly returns the user's age, which is the information requested by the user.\n",
            " \n",
            "Json Output\n",
            "\n",
            "{\n",
            "  \"tool_name\": \"get_user_age\",\n",
            "  \"parameters\": {}\n",
            "}\n"
          ]
        }
      ],
      "source": [
        "messages =[\n",
        "    {\"role\":\"system\",\"content\":system_prompt},\n",
        "    {\"role\":\"user\",\"content\":\"What's my age?\"}\n",
        "    ]\n",
        "\n",
        "output = get_response_from_messages_hf(pipe,messages)\n",
        "print(output)"
      ]
    },
    {
      "cell_type": "code",
      "execution_count": null,
      "metadata": {
        "id": "OmXexqFyWPEe"
      },
      "outputs": [],
      "source": []
    },
    {
      "cell_type": "code",
      "execution_count": null,
      "metadata": {
        "id": "onoxeovgZhCC"
      },
      "outputs": [],
      "source": [
        "def get_message_intent(pipe,tools,user_message):\n",
        "    tool_list_str = str(tools)\n",
        "\n",
        "    system_prompt = f\"\"\"\n",
        "    You are a system that reads each user message and decides whether to invoke one of the available tools to generate the answer.\n",
        "    Not every message requires a tool.  Only select a tool when it directly helps respond to the user’s request.\n",
        "\n",
        "    The full list of available tools is provided as JSON here:\n",
        "    {tool_list_str}\n",
        "\n",
        "    When you respond, follow this pattern:\n",
        "    1.\n",
        "        Reason whether any of the provded tools is a good fit or not.\n",
        "        Reasoning should be 2 sentences or less\n",
        "        Reasoning should end with a new line then \"no tool is needed\" If no tool is a good fit or if no tools are relevant.\n",
        "    2.\n",
        "      On its own line, write: \"Json Output\"\n",
        "    3.\n",
        "      Choose one the following two options:\n",
        "      a. If you determine no tool is needed, simply return an empty json like so {{}}\n",
        "      b. If a tool is needed: provide a JSON object with exactly two keys like the one bellow:\n",
        "        {{\n",
        "          \"tool_name\":\"\" # put here the name of the tool,\n",
        "          \"parameters\":{{}} # parameters in a proper json format, this is going to be empty if there are no parameters.\n",
        "        }}\n",
        "\n",
        "    don't number the output 1,2,3 or a,b.\n",
        "    \"\"\"\n",
        "\n",
        "    messages =[\n",
        "      {\"role\":\"system\",\"content\":system_prompt},\n",
        "      {\"role\":\"user\",\"content\":user_message}\n",
        "    ]\n",
        "\n",
        "    output = get_response_from_messages_hf(pipe,messages)\n",
        "\n",
        "    return output"
      ]
    },
    {
      "cell_type": "code",
      "execution_count": null,
      "metadata": {
        "colab": {
          "base_uri": "https://localhost:8080/"
        },
        "id": "t-ac93CYZhAE",
        "outputId": "fc36e495-5d22-4a76-a24c-9a585160ec4e"
      },
      "outputs": [
        {
          "name": "stderr",
          "output_type": "stream",
          "text": [
            "The following generation flags are not valid and may be ignored: ['temperature', 'top_p']. Set `TRANSFORMERS_VERBOSITY=info` for more details.\n"
          ]
        },
        {
          "name": "stdout",
          "output_type": "stream",
          "text": [
            "Reason: The 'get_user_name' tool is a good fit for this request as it directly returns the user's name.\n",
            "\n",
            "Json Output\n",
            "\n",
            "{\n",
            "  \"tool_name\": \"get_user_name\",\n",
            "  \"parameters\": {}\n",
            "}\n"
          ]
        }
      ],
      "source": [
        "output = get_message_intent(pipe,tools,\"What's my name?\")\n",
        "print(output)"
      ]
    },
    {
      "cell_type": "code",
      "execution_count": null,
      "metadata": {
        "id": "15OpUMwrZg9y"
      },
      "outputs": [],
      "source": []
    },
    {
      "cell_type": "code",
      "execution_count": null,
      "metadata": {
        "id": "ojMRv0rWZg7g"
      },
      "outputs": [],
      "source": [
        "json_output = json.loads(((output.lower().split('json output')[1]).strip()))"
      ]
    },
    {
      "cell_type": "code",
      "execution_count": null,
      "metadata": {
        "colab": {
          "base_uri": "https://localhost:8080/"
        },
        "id": "ggETD4IsWPBv",
        "outputId": "737ec62c-f424-4fb7-886a-219dc929ab3b"
      },
      "outputs": [
        {
          "data": {
            "text/plain": [
              "{'tool_name': 'get_user_name', 'parameters': {}}"
            ]
          },
          "execution_count": 54,
          "metadata": {},
          "output_type": "execute_result"
        }
      ],
      "source": [
        "json_output"
      ]
    },
    {
      "cell_type": "code",
      "execution_count": null,
      "metadata": {
        "id": "EHpQiy6iUtDD"
      },
      "outputs": [],
      "source": [
        "function_to_run = json_output['tool_name']\n",
        "parameters = json_output['parameters']"
      ]
    },
    {
      "cell_type": "code",
      "execution_count": null,
      "metadata": {
        "id": "K2GdytRCaYBY"
      },
      "outputs": [],
      "source": []
    },
    {
      "cell_type": "code",
      "execution_count": null,
      "metadata": {
        "colab": {
          "base_uri": "https://localhost:8080/"
        },
        "id": "9fidlQAuaStG",
        "outputId": "26a579b8-4b76-410e-bb7d-67932a4dd697"
      },
      "outputs": [
        {
          "name": "stdout",
          "output_type": "stream",
          "text": [
            "Ben\n"
          ]
        }
      ],
      "source": [
        "result = tools[function_to_run][\"tool\"](**parameters)\n",
        "print(result)"
      ]
    },
    {
      "cell_type": "code",
      "execution_count": null,
      "metadata": {
        "id": "a2gxeDQ6avH5"
      },
      "outputs": [],
      "source": []
    },
    {
      "cell_type": "code",
      "execution_count": null,
      "metadata": {
        "colab": {
          "base_uri": "https://localhost:8080/"
        },
        "id": "InNRygi6aSrH",
        "outputId": "9f178aa6-325f-417c-8bc6-38be5ef803a8"
      },
      "outputs": [
        {
          "name": "stdout",
          "output_type": "stream",
          "text": [
            "This is output when we ran get_user_name that does this This tool returns the user's name\n",
            "    Tool Output: Ben\n",
            "    \n"
          ]
        }
      ],
      "source": [
        "tool_run_output = f\"\"\"This is output when we ran {function_to_run} that does this {tools[function_to_run]['description']}\n",
        "    Tool Output: {result}\n",
        "    \"\"\"\n",
        "print(tool_run_output)"
      ]
    },
    {
      "cell_type": "code",
      "execution_count": null,
      "metadata": {
        "colab": {
          "base_uri": "https://localhost:8080/",
          "height": 35
        },
        "id": "Xj4LDDe2aSo2",
        "outputId": "cd0b9db9-a955-469e-bcfa-cfe8d748cba8"
      },
      "outputs": [
        {
          "data": {
            "application/vnd.google.colaboratory.intrinsic+json": {
              "type": "string"
            },
            "text/plain": [
              "\"What's my name?\""
            ]
          },
          "execution_count": 60,
          "metadata": {},
          "output_type": "execute_result"
        }
      ],
      "source": [
        "user_message"
      ]
    },
    {
      "cell_type": "code",
      "execution_count": null,
      "metadata": {
        "id": "dGmG_nBtaSmm"
      },
      "outputs": [],
      "source": [
        "messages = [\n",
        "    {\"role\":\"user\",\"content\":user_message+\"\"\"\n",
        "    That tool’s output will be:\n",
        "        Data Output – Information you should incorporate into your answer as factual content.\n",
        "\n",
        "      When you compose your reply, follow these steps:\n",
        "\n",
        "      1. Inspect the tool output\n",
        "          weave it into your response as part of your knowledge\n",
        "\n",
        "      2. Respond appropriately\n",
        "         use it to directly inform or support your answer.\n",
        "\n",
        "    \"\"\"+tool_run_output}\n",
        "    ]"
      ]
    },
    {
      "cell_type": "code",
      "execution_count": null,
      "metadata": {
        "colab": {
          "base_uri": "https://localhost:8080/"
        },
        "id": "Iz61xZfFPvwA",
        "outputId": "c34fbdd4-fcf3-4ffa-83f7-14c487084bed"
      },
      "outputs": [
        {
          "name": "stderr",
          "output_type": "stream",
          "text": [
            "You seem to be using the pipelines sequentially on GPU. In order to maximize efficiency please use a dataset\n",
            "The following generation flags are not valid and may be ignored: ['temperature', 'top_p']. Set `TRANSFORMERS_VERBOSITY=info` for more details.\n"
          ]
        }
      ],
      "source": [
        "user_facing_response = get_response_from_messages_hf(pipe,messages)"
      ]
    },
    {
      "cell_type": "code",
      "execution_count": null,
      "metadata": {
        "colab": {
          "base_uri": "https://localhost:8080/"
        },
        "id": "y-sF8TSMbelK",
        "outputId": "52e26646-bea0-4a64-add5-7c68665f85bf"
      },
      "outputs": [
        {
          "name": "stdout",
          "output_type": "stream",
          "text": [
            "Based on the tool output, it appears that your name is Ben.\n"
          ]
        }
      ],
      "source": [
        "print(user_facing_response)"
      ]
    },
    {
      "cell_type": "code",
      "execution_count": null,
      "metadata": {
        "id": "dd6pZvqXbei9"
      },
      "outputs": [],
      "source": []
    },
    {
      "cell_type": "code",
      "execution_count": null,
      "metadata": {
        "id": "-e0IQJ8Nbegn"
      },
      "outputs": [],
      "source": [
        "def run_tools(tools,message_intent):\n",
        "  json_output = json.loads(((message_intent.lower().split('json output')[1]).strip()))\n",
        "\n",
        "  if len(json_output)==0:\n",
        "    return \"\"\n",
        "\n",
        "  function_to_run = json_output['tool_name']\n",
        "  parameters = json_output['parameters']\n",
        "  result = tools[function_to_run][\"tool\"](**parameters)\n",
        "\n",
        "  output_response = f\"\"\"This is output when we ran {function_to_run} that does this {tools[function_to_run]['description']}\n",
        "    Tool Output: {result}\n",
        "    \"\"\"\n",
        "\n",
        "  return output_response"
      ]
    },
    {
      "cell_type": "code",
      "execution_count": null,
      "metadata": {
        "id": "Bl8-1bxrbeeI"
      },
      "outputs": [],
      "source": [
        "tool_run_output = run_tools(tools,output)"
      ]
    },
    {
      "cell_type": "code",
      "execution_count": null,
      "metadata": {
        "colab": {
          "base_uri": "https://localhost:8080/",
          "height": 35
        },
        "id": "Ub6dhal2bd3q",
        "outputId": "51aaf1fc-00f8-45ee-bb1c-d1518623a547"
      },
      "outputs": [
        {
          "data": {
            "application/vnd.google.colaboratory.intrinsic+json": {
              "type": "string"
            },
            "text/plain": [
              "\"This is output when we ran get_user_name that does this This tool returns the user's name\\n    Tool Output: Ben\\n    \""
            ]
          },
          "execution_count": 66,
          "metadata": {},
          "output_type": "execute_result"
        }
      ],
      "source": [
        "tool_run_output"
      ]
    },
    {
      "cell_type": "code",
      "execution_count": null,
      "metadata": {
        "id": "jkrkYtNhch7V"
      },
      "outputs": [],
      "source": []
    },
    {
      "cell_type": "markdown",
      "metadata": {
        "id": "KPV8RJCyclY4"
      },
      "source": [
        "# Clean Up"
      ]
    },
    {
      "cell_type": "code",
      "execution_count": null,
      "metadata": {
        "id": "3FeugXfSch5E"
      },
      "outputs": [],
      "source": [
        "class Client():\n",
        "  def __init__(self,tools):\n",
        "    self.tools = tools\n",
        "    self.tools_list_str = str(tools)\n",
        "\n",
        "  def get_message_intent(self,pipe,user_message):\n",
        "    system_prompt = f\"\"\"\n",
        "    You are a system that reads each user message and decides whether to invoke one of the available tools to generate the answer.\n",
        "    Not every message requires a tool.  Only select a tool when it directly helps respond to the user’s request.\n",
        "\n",
        "    The full list of available tools is provided as JSON here:\n",
        "    {self.tools_list_str}\n",
        "\n",
        "    When you respond, follow this pattern:\n",
        "    1.\n",
        "        Reason whether any of the provded tools is a good fit or not.\n",
        "        Reasoning should be 2 sentences or less\n",
        "        Reasoning should end with a new line then \"no tool is needed\" If no tool is a good fit or if no tools are relevant.\n",
        "    2.\n",
        "      On its own line, write: \"Json Output\"\n",
        "    3.\n",
        "      Choose one the following two options:\n",
        "      a. If you determine no tool is needed, simply return an empty json like so {{}}\n",
        "      b. If a tool is needed: provide a JSON object with exactly two keys like the one bellow:\n",
        "        {{\n",
        "          \"tool_name\":\"\" # put here the name of the tool,\n",
        "          \"parameters\":{{}} # parameters in a proper json format, this is going to be empty if there are no parameters.\n",
        "        }}\n",
        "\n",
        "    don't number the output 1,2,3 or a,b.\n",
        "    \"\"\"\n",
        "\n",
        "    messages =[\n",
        "      {\"role\":\"system\",\"content\":system_prompt},\n",
        "      {\"role\":\"user\",\"content\":user_message}\n",
        "    ]\n",
        "\n",
        "    output = get_response_from_messages_hf(pipe,messages)\n",
        "\n",
        "    return output\n",
        "\n",
        "  def run_tools(self,message_intent):\n",
        "    json_output = json.loads(((message_intent.lower().split('json output')[1]).strip()))\n",
        "\n",
        "    if len(json_output)==0:\n",
        "      return \"\"\n",
        "\n",
        "    function_to_run = json_output['tool_name']\n",
        "    parameters = json_output['parameters']\n",
        "    result = self.tools[function_to_run][\"tool\"](**parameters)\n",
        "\n",
        "    output_response = f\"\"\"This is output when we ran {function_to_run} that does this {self.tools[function_to_run]['description']}\n",
        "      Tool Output: {result}\n",
        "      \"\"\"\n",
        "\n",
        "    return output_response\n"
      ]
    },
    {
      "cell_type": "code",
      "execution_count": null,
      "metadata": {
        "id": "4AvUBSO3ch22"
      },
      "outputs": [],
      "source": [
        "# Host\n",
        "class Host():\n",
        "  def __init__(self,llm_model,client):\n",
        "    self.client = client\n",
        "    self.llm_model=llm_model\n",
        "    self.message_history=[]\n",
        "\n",
        "  def get_user_response(self,user_message):\n",
        "    original_user_message= user_message\n",
        "\n",
        "    intent_output = self.client.get_message_intent(self.llm_model,user_message)\n",
        "    tool_output = self.client.run_tools(intent_output)\n",
        "\n",
        "\n",
        "    if tool_output.strip() !=\"\" and  tool_output.strip() !=\"no tool is needed\":\n",
        "      message_tool_attachement = \"\"\"\n",
        "      That tool’s output will be one of two kinds:\n",
        "        1. Data Output – Information you should incorporate into your answer as factual content.\n",
        "        2. Status Output – A message indicating success or failure of the tool or an opperation. In this case, simply report the status to the user; do not suggest or describe how to run the tool.\n",
        "\n",
        "      When you compose your reply, follow these steps:\n",
        "\n",
        "      1. Inspect the tool output\n",
        "          a. If it’s data, weave it into your response as part of your knowledge.\n",
        "          b. If it’s a function status message, communicate that status to the user.\n",
        "\n",
        "      2. Respond appropriately\n",
        "        a. For data: use it to directly inform or support your answer.\n",
        "        b. For function status: acknowledge success or explain the error without offering tool-invocation instructions.\n",
        "\n",
        "      \"\"\"+tool_output\n",
        "\n",
        "      user_message+= message_tool_attachement\n",
        "\n",
        "    self.message_history.append({\"role\":\"user\",\"content\":user_message})\n",
        "\n",
        "    user_facing_output = get_response_from_messages_hf(self.llm_model,self.message_history)\n",
        "\n",
        "    self.message_history[-1]['content'] = original_user_message\n",
        "    self.message_history.append({\"role\":\"assistant\",\"content\":user_facing_output})\n",
        "    return user_facing_output\n"
      ]
    },
    {
      "cell_type": "code",
      "execution_count": null,
      "metadata": {
        "id": "EARBy4zecf4x"
      },
      "outputs": [],
      "source": []
    },
    {
      "cell_type": "code",
      "execution_count": null,
      "metadata": {
        "id": "ZzLzeaRReSEV"
      },
      "outputs": [],
      "source": [
        "# Resources\n",
        "def get_user_name():\n",
        "  return \"Ben\"\n",
        "def get_user_age():\n",
        "  return 28\n",
        "\n",
        "# tool\n",
        "def write_to_file(file_path,content):\n",
        "  with open(file_path,'w') as f:\n",
        "    f.write(content)\n",
        "  return \"File written successfully in the specified path: \"+file_path"
      ]
    },
    {
      "cell_type": "code",
      "execution_count": null,
      "metadata": {
        "id": "z1EQ41yKgmLG"
      },
      "outputs": [],
      "source": [
        "# Student Database\n",
        "student_database_json = {\n",
        "    \"s001\": {\n",
        "        \"name\": \"Alice\",\n",
        "        \"GPA\": 3.2,\n",
        "        \"major\": \"Computer Science\",\n",
        "        \"Courses\" : [\"programming 101\",\"networks\",\"AI\", \"digital logic\"]\n",
        "    },\n",
        "    \"s002\": {\n",
        "        \"name\": \"Bob\",\n",
        "        \"GPA\": 3.8,\n",
        "        \"major\": \"Mathematics\",\n",
        "        \"Courses\" : [\"programming 101\",\"math 101\",\"english 201\", \"linear algebra\"]\n",
        "    }\n",
        "}\n",
        "\n",
        "def get_student_gpa(student_id):\n",
        "  if student_id in student_database_json:\n",
        "    return student_database_json[student_id][\"GPA\"]\n",
        "  else:\n",
        "    return \"Student not found\"\n",
        "\n",
        "def get_student_major(student_id):\n",
        "  if student_id in student_database_json:\n",
        "    return student_database_json[student_id][\"major\"]\n",
        "  else:\n",
        "    return \"Student not found\"\n",
        "\n",
        "def get_student_courses(student_id):\n",
        "  if student_id in student_database_json:\n",
        "    return student_database_json[student_id][\"Courses\"]\n",
        "  else:\n",
        "    return \"Student not found\"\n",
        "\n",
        "def add_student(student_id,student_name,student_gpa,student_major,student_courses):\n",
        "  student_database_json[student_id] = {\n",
        "      \"name\": student_name,\n",
        "      \"GPA\": student_gpa,\n",
        "      \"major\": student_major,\n",
        "      \"Courses\" : student_courses }\n",
        "\n",
        "  return \"Student added successfully\"\n",
        "\n",
        "def edit_student_gpa(student_id,new_gpa):\n",
        "  if student_id in student_database_json:\n",
        "    student_database_json[student_id][\"GPA\"] = new_gpa\n",
        "    return \"GPA updated successfully\"\n",
        "  else:\n",
        "    return \"Student not found\"\n"
      ]
    },
    {
      "cell_type": "code",
      "execution_count": null,
      "metadata": {
        "id": "Udma1ZrlgmJL"
      },
      "outputs": [],
      "source": []
    },
    {
      "cell_type": "code",
      "execution_count": null,
      "metadata": {
        "id": "O92y3R6xgdfR"
      },
      "outputs": [],
      "source": []
    },
    {
      "cell_type": "code",
      "execution_count": null,
      "metadata": {
        "id": "aNeOx4rxeSCV"
      },
      "outputs": [],
      "source": [
        "tools = {\n",
        "    \"get_user_name\": {\n",
        "        \"description\": \"This tool returns the user's name\",\n",
        "        \"tool\":get_user_name,\n",
        "        \"parameters\": None,\n",
        "    },\n",
        "    \"get_user_age\": {\n",
        "        \"description\": \"This tool returns the user's age\",\n",
        "        \"tool\":get_user_age,\n",
        "        \"parameters\":None,\n",
        "    },\n",
        "    \"write_to_file\": {\n",
        "        \"description\": \"This tool writes content to a file\",\n",
        "        \"tool\":write_to_file,\n",
        "        \"parameters\":{'file_path':'the path where the file should be saved', 'content':'the content that should be written in the file'},\n",
        "    },\n",
        "\n",
        "    \"get_student_gpa\": {\n",
        "        \"description\": \"This tool returns the student's GPA\",\n",
        "        \"tool\":get_student_gpa,\n",
        "        \"parameters\":{'student_id':'the id of the student'},\n",
        "    },\n",
        "    \"get_student_major\": {\n",
        "        \"description\": \"This tool returns the student's major\",\n",
        "        \"tool\":get_student_major,\n",
        "        \"parameters\":{'student_id':'the id of the student'},\n",
        "    },\n",
        "    \"get_student_courses\": {\n",
        "        \"description\": \"This tool returns the student's courses\",\n",
        "        \"tool\":get_student_courses,\n",
        "        \"parameters\":{'student_id':'the id of the student'},\n",
        "    },\n",
        "    \"add_student\": {\n",
        "        \"description\": \"This tool adds a student to the database\",\n",
        "        \"tool\":add_student,\n",
        "        \"parameters\":{'student_id':'the id of the student', 'student_name':'the name of the student', 'student_gpa':'the GPA of the student', 'student_major':'the major of the student', 'student_courses':'the courses of the student'},\n",
        "    },\n",
        "    \"edit_student_gpa\": {\n",
        "        \"description\": \"This tool edits the student's GPA\",\n",
        "        \"tool\":edit_student_gpa,\n",
        "        \"parameters\":{'student_id':'the id of the student', 'new_gpa':'the new GPA of the student'},\n",
        "    }\n",
        "}"
      ]
    },
    {
      "cell_type": "code",
      "execution_count": null,
      "metadata": {
        "id": "x6PQhWeTeR_6"
      },
      "outputs": [],
      "source": []
    },
    {
      "cell_type": "code",
      "execution_count": null,
      "metadata": {
        "id": "A0dlcxoGeo9c"
      },
      "outputs": [],
      "source": [
        "client = Client(tools)\n",
        "host = Host(pipe,client)"
      ]
    },
    {
      "cell_type": "code",
      "execution_count": null,
      "metadata": {
        "colab": {
          "base_uri": "https://localhost:8080/"
        },
        "id": "Cspcu8O1eo7U",
        "outputId": "6d7789c7-9f90-490a-93c4-eabb804ca7af"
      },
      "outputs": [
        {
          "name": "stderr",
          "output_type": "stream",
          "text": [
            "The following generation flags are not valid and may be ignored: ['temperature', 'top_p']. Set `TRANSFORMERS_VERBOSITY=info` for more details.\n",
            "The following generation flags are not valid and may be ignored: ['temperature', 'top_p']. Set `TRANSFORMERS_VERBOSITY=info` for more details.\n"
          ]
        },
        {
          "name": "stdout",
          "output_type": "stream",
          "text": [
            "Your name is Ben.\n"
          ]
        }
      ],
      "source": [
        "user_facing_output = host.get_user_response(\"What's my name?\")\n",
        "print(user_facing_output)"
      ]
    },
    {
      "cell_type": "code",
      "execution_count": null,
      "metadata": {
        "colab": {
          "base_uri": "https://localhost:8080/"
        },
        "id": "_1IaxnFmeo5F",
        "outputId": "1d70bf1c-2108-4494-9d57-b7d079864e92"
      },
      "outputs": [
        {
          "name": "stderr",
          "output_type": "stream",
          "text": [
            "The following generation flags are not valid and may be ignored: ['temperature', 'top_p']. Set `TRANSFORMERS_VERBOSITY=info` for more details.\n",
            "The following generation flags are not valid and may be ignored: ['temperature', 'top_p']. Set `TRANSFORMERS_VERBOSITY=info` for more details.\n"
          ]
        },
        {
          "name": "stdout",
          "output_type": "stream",
          "text": [
            "You are 28 years old.\n"
          ]
        }
      ],
      "source": [
        "user_facing_output = host.get_user_response(\"What's my age?\")\n",
        "print(user_facing_output)"
      ]
    },
    {
      "cell_type": "code",
      "execution_count": null,
      "metadata": {
        "colab": {
          "base_uri": "https://localhost:8080/"
        },
        "id": "orI5j795e4Ez",
        "outputId": "ef4f3662-dc80-4f20-e9cc-9495891b014b"
      },
      "outputs": [
        {
          "name": "stderr",
          "output_type": "stream",
          "text": [
            "The following generation flags are not valid and may be ignored: ['temperature', 'top_p']. Set `TRANSFORMERS_VERBOSITY=info` for more details.\n",
            "The following generation flags are not valid and may be ignored: ['temperature', 'top_p']. Set `TRANSFORMERS_VERBOSITY=info` for more details.\n"
          ]
        },
        {
          "name": "stdout",
          "output_type": "stream",
          "text": [
            "The tool output indicates that the file was written successfully. Here's a response:\n",
            "\n",
            "The file \"greetings.txt\" has been written to the specified path. The content of the file is: \"hello there\".\n"
          ]
        }
      ],
      "source": [
        "user_facing_output = host.get_user_response(\"Write 'hello there' in a text file in this path 'greetings.txt' \")\n",
        "print(user_facing_output)"
      ]
    },
    {
      "cell_type": "code",
      "execution_count": null,
      "metadata": {
        "colab": {
          "base_uri": "https://localhost:8080/"
        },
        "id": "vYfEh08ogf8w",
        "outputId": "609d9335-b74d-47b1-c4c6-32a0935ab91d"
      },
      "outputs": [
        {
          "name": "stderr",
          "output_type": "stream",
          "text": [
            "The following generation flags are not valid and may be ignored: ['temperature', 'top_p']. Set `TRANSFORMERS_VERBOSITY=info` for more details.\n",
            "The following generation flags are not valid and may be ignored: ['temperature', 'top_p']. Set `TRANSFORMERS_VERBOSITY=info` for more details.\n"
          ]
        },
        {
          "name": "stdout",
          "output_type": "stream",
          "text": [
            "The fastest animal on Earth is the peregrine falcon, which can reach speeds of up to 242 miles per hour (390 kilometers per hour) during its characteristic hunting dive, known as a stoop.\n"
          ]
        }
      ],
      "source": [
        "user_facing_output = host.get_user_response(\"What is the fastest animal on earth?\")\n",
        "print(user_facing_output)"
      ]
    },
    {
      "cell_type": "code",
      "execution_count": null,
      "metadata": {
        "colab": {
          "base_uri": "https://localhost:8080/"
        },
        "id": "6JC7bxDLgf6f",
        "outputId": "b1438e28-4f44-49b0-b5b2-d8e8975ca183"
      },
      "outputs": [
        {
          "name": "stderr",
          "output_type": "stream",
          "text": [
            "The following generation flags are not valid and may be ignored: ['temperature', 'top_p']. Set `TRANSFORMERS_VERBOSITY=info` for more details.\n",
            "The following generation flags are not valid and may be ignored: ['temperature', 'top_p']. Set `TRANSFORMERS_VERBOSITY=info` for more details.\n"
          ]
        },
        {
          "name": "stdout",
          "output_type": "stream",
          "text": [
            "The peregrine falcon is the fastest animal on Earth, reaching speeds of up to 242 miles per hour (390 kilometers per hour) during its characteristic hunting dive.\n",
            "\n",
            "As for their weight, peregrine falcons typically weigh between 1.5 and 3.5 pounds (0.7 to 1.6 kilograms), with some individuals reaching up to 4 pounds (1.8 kilograms) in weight.\n"
          ]
        }
      ],
      "source": [
        "user_facing_output = host.get_user_response(\"how much they usually weigh?\")\n",
        "print(user_facing_output)"
      ]
    },
    {
      "cell_type": "code",
      "execution_count": null,
      "metadata": {
        "id": "FLf_IBYNil9u"
      },
      "outputs": [],
      "source": []
    },
    {
      "cell_type": "code",
      "execution_count": null,
      "metadata": {
        "colab": {
          "base_uri": "https://localhost:8080/"
        },
        "id": "0LR3Tvqogf4T",
        "outputId": "b0fa01af-90ce-4f33-e33a-30b35d23d631"
      },
      "outputs": [
        {
          "name": "stderr",
          "output_type": "stream",
          "text": [
            "The following generation flags are not valid and may be ignored: ['temperature', 'top_p']. Set `TRANSFORMERS_VERBOSITY=info` for more details.\n",
            "The following generation flags are not valid and may be ignored: ['temperature', 'top_p']. Set `TRANSFORMERS_VERBOSITY=info` for more details.\n"
          ]
        },
        {
          "name": "stdout",
          "output_type": "stream",
          "text": [
            "The GPA of the student with ID s001 is 3.8.\n"
          ]
        }
      ],
      "source": [
        "user_facing_output = host.get_user_response(\"What's the GPA of the student with id s001?\")\n",
        "print(user_facing_output)"
      ]
    },
    {
      "cell_type": "code",
      "execution_count": null,
      "metadata": {
        "colab": {
          "base_uri": "https://localhost:8080/"
        },
        "id": "Pd2Z6x1AijJ2",
        "outputId": "d423e929-dff1-42b9-c5ca-c5e386886814"
      },
      "outputs": [
        {
          "name": "stderr",
          "output_type": "stream",
          "text": [
            "The following generation flags are not valid and may be ignored: ['temperature', 'top_p']. Set `TRANSFORMERS_VERBOSITY=info` for more details.\n",
            "The following generation flags are not valid and may be ignored: ['temperature', 'top_p']. Set `TRANSFORMERS_VERBOSITY=info` for more details.\n"
          ]
        },
        {
          "name": "stdout",
          "output_type": "stream",
          "text": [
            "The major of the student with ID s002 is Mathematics.\n"
          ]
        }
      ],
      "source": [
        "user_facing_output = host.get_user_response(\"What's the major of the student with id s002?\")\n",
        "print(user_facing_output)"
      ]
    },
    {
      "cell_type": "code",
      "execution_count": null,
      "metadata": {
        "colab": {
          "base_uri": "https://localhost:8080/"
        },
        "id": "D8uqA5wkijHn",
        "outputId": "cb1980de-2b90-49cc-d036-8693b9ec5a1b"
      },
      "outputs": [
        {
          "name": "stderr",
          "output_type": "stream",
          "text": [
            "The following generation flags are not valid and may be ignored: ['temperature', 'top_p']. Set `TRANSFORMERS_VERBOSITY=info` for more details.\n",
            "The following generation flags are not valid and may be ignored: ['temperature', 'top_p']. Set `TRANSFORMERS_VERBOSITY=info` for more details.\n"
          ]
        },
        {
          "name": "stdout",
          "output_type": "stream",
          "text": [
            "The GPA of the student with ID s001 has been updated to 3.8.\n"
          ]
        }
      ],
      "source": [
        "user_facing_output = host.get_user_response(\"Edit the GPA of student s001 to 3.8\")\n",
        "print(user_facing_output)"
      ]
    },
    {
      "cell_type": "code",
      "execution_count": null,
      "metadata": {
        "colab": {
          "base_uri": "https://localhost:8080/"
        },
        "id": "lME7930vijFX",
        "outputId": "8f9b6ed9-ac55-4b23-bbae-d0686fa86f18"
      },
      "outputs": [
        {
          "data": {
            "text/plain": [
              "{'name': 'Alice',\n",
              " 'GPA': '3.8',\n",
              " 'major': 'Computer Science',\n",
              " 'Courses': ['programming 101', 'networks', 'AI', 'digital logic']}"
            ]
          },
          "execution_count": 120,
          "metadata": {},
          "output_type": "execute_result"
        }
      ],
      "source": [
        "student_database_json['s001']"
      ]
    },
    {
      "cell_type": "code",
      "execution_count": null,
      "metadata": {
        "colab": {
          "base_uri": "https://localhost:8080/"
        },
        "id": "zxh77ywjijDV",
        "outputId": "156f9651-2dc2-4185-abfa-18299ce41acd"
      },
      "outputs": [
        {
          "name": "stderr",
          "output_type": "stream",
          "text": [
            "The following generation flags are not valid and may be ignored: ['temperature', 'top_p']. Set `TRANSFORMERS_VERBOSITY=info` for more details.\n",
            "The following generation flags are not valid and may be ignored: ['temperature', 'top_p']. Set `TRANSFORMERS_VERBOSITY=info` for more details.\n"
          ]
        },
        {
          "name": "stdout",
          "output_type": "stream",
          "text": [
            "The GPA of the student with ID s001 is 3.8.\n"
          ]
        }
      ],
      "source": [
        "user_facing_output = host.get_user_response(\"What's the GPA of the student with id s001?\")\n",
        "print(user_facing_output)"
      ]
    },
    {
      "cell_type": "code",
      "execution_count": null,
      "metadata": {
        "id": "IUaZCrTQjTZ2"
      },
      "outputs": [],
      "source": []
    },
    {
      "cell_type": "code",
      "execution_count": null,
      "metadata": {
        "colab": {
          "base_uri": "https://localhost:8080/"
        },
        "id": "38uI_AXxjTXk",
        "outputId": "f10e6fa9-7861-4694-d76a-cf9135284947"
      },
      "outputs": [
        {
          "name": "stderr",
          "output_type": "stream",
          "text": [
            "The following generation flags are not valid and may be ignored: ['temperature', 'top_p']. Set `TRANSFORMERS_VERBOSITY=info` for more details.\n",
            "The following generation flags are not valid and may be ignored: ['temperature', 'top_p']. Set `TRANSFORMERS_VERBOSITY=info` for more details.\n"
          ]
        },
        {
          "name": "stdout",
          "output_type": "stream",
          "text": [
            "The updated student information is as follows:\n",
            "\n",
            "- Student with ID s001: GPA 3.8\n",
            "- Student with ID s002: Major Mathematics\n",
            "- Student with ID s003: \n",
            "  - Name: Ben\n",
            "  - Major: Business\n",
            "  - GPA: 3.2\n",
            "  - Courses: [English 101, Business 101]\n"
          ]
        }
      ],
      "source": [
        "user_facing_output = host.get_user_response(\"Let's add a student with student id s003, name is Ben, major is Business, GPA is 3.2 and courses are [english_101,business_101] \")\n",
        "print(user_facing_output)"
      ]
    },
    {
      "cell_type": "code",
      "execution_count": null,
      "metadata": {
        "colab": {
          "base_uri": "https://localhost:8080/"
        },
        "id": "TarOepRGjTVU",
        "outputId": "47479120-fc2d-4e63-816e-d47c9fef2a0a"
      },
      "outputs": [
        {
          "data": {
            "text/plain": [
              "{'s001': {'name': 'Alice',\n",
              "  'GPA': '3.8',\n",
              "  'major': 'Computer Science',\n",
              "  'Courses': ['programming 101', 'networks', 'AI', 'digital logic']},\n",
              " 's002': {'name': 'Bob',\n",
              "  'GPA': 3.8,\n",
              "  'major': 'Mathematics',\n",
              "  'Courses': ['programming 101', 'math 101', 'english 201', 'linear algebra']},\n",
              " 's003': {'name': 'ben',\n",
              "  'GPA': '3.2',\n",
              "  'major': 'business',\n",
              "  'Courses': '[\"english_101\", \"business_101\"]'}}"
            ]
          },
          "execution_count": 124,
          "metadata": {},
          "output_type": "execute_result"
        }
      ],
      "source": [
        "student_database_json"
      ]
    },
    {
      "cell_type": "code",
      "execution_count": null,
      "metadata": {
        "colab": {
          "base_uri": "https://localhost:8080/"
        },
        "id": "gL2DgQEakHLV",
        "outputId": "db1e5058-8422-4db8-af44-3f0e367f8030"
      },
      "outputs": [
        {
          "name": "stderr",
          "output_type": "stream",
          "text": [
            "The following generation flags are not valid and may be ignored: ['temperature', 'top_p']. Set `TRANSFORMERS_VERBOSITY=info` for more details.\n",
            "The following generation flags are not valid and may be ignored: ['temperature', 'top_p']. Set `TRANSFORMERS_VERBOSITY=info` for more details.\n"
          ]
        },
        {
          "name": "stdout",
          "output_type": "stream",
          "text": [
            "The courses for the student with ID s003 are:\n",
            "\n",
            "English 101\n",
            "Business 101\n"
          ]
        }
      ],
      "source": [
        "user_facing_output = host.get_user_response(\"What's the courses for the student with id s003?\")\n",
        "print(user_facing_output)"
      ]
    },
    {
      "cell_type": "code",
      "execution_count": null,
      "metadata": {
        "id": "epiDKXxBkHJU"
      },
      "outputs": [],
      "source": []
    },
    {
      "cell_type": "code",
      "execution_count": null,
      "metadata": {
        "id": "xGV5rDS0kHHP"
      },
      "outputs": [],
      "source": []
    },
    {
      "cell_type": "code",
      "execution_count": null,
      "metadata": {
        "id": "81Id9uqVkHEz"
      },
      "outputs": [],
      "source": []
    },
    {
      "cell_type": "code",
      "execution_count": null,
      "metadata": {
        "id": "cDoNhMU8eR9W"
      },
      "outputs": [],
      "source": []
    }
  ],
  "metadata": {
    "accelerator": "GPU",
    "colab": {
      "gpuType": "T4",
      "provenance": [],
      "toc_visible": true
    },
    "kernelspec": {
      "display_name": "Python 3",
      "name": "python3"
    },
    "language_info": {
      "name": "python"
    },
    "widgets": {
      "application/vnd.jupyter.widget-state+json": {
        "0437c7f4a88e456ca407eaa68a692a8c": {
          "model_module": "@jupyter-widgets/controls",
          "model_module_version": "1.5.0",
          "model_name": "HTMLModel",
          "state": {
            "_dom_classes": [],
            "_model_module": "@jupyter-widgets/controls",
            "_model_module_version": "1.5.0",
            "_model_name": "HTMLModel",
            "_view_count": null,
            "_view_module": "@jupyter-widgets/controls",
            "_view_module_version": "1.5.0",
            "_view_name": "HTMLView",
            "description": "",
            "description_tooltip": null,
            "layout": "IPY_MODEL_f5f610efebb04fe48e6265e1b1bc2e1b",
            "placeholder": "​",
            "style": "IPY_MODEL_a3bf835d9cad4c4daa457b841232a152",
            "value": " 20.9k/20.9k [00:00&lt;00:00, 1.24MB/s]"
          }
        },
        "063f590941b24ca996f196b442029498": {
          "model_module": "@jupyter-widgets/controls",
          "model_module_version": "1.5.0",
          "model_name": "FloatProgressModel",
          "state": {
            "_dom_classes": [],
            "_model_module": "@jupyter-widgets/controls",
            "_model_module_version": "1.5.0",
            "_model_name": "FloatProgressModel",
            "_view_count": null,
            "_view_module": "@jupyter-widgets/controls",
            "_view_module_version": "1.5.0",
            "_view_name": "ProgressView",
            "bar_style": "success",
            "description": "",
            "description_tooltip": null,
            "layout": "IPY_MODEL_f93f550365e5423d9c98a89d5bd685d9",
            "max": 189,
            "min": 0,
            "orientation": "horizontal",
            "style": "IPY_MODEL_2bd92dcde49e4fbab91539b75f86374a",
            "value": 189
          }
        },
        "071c871dae734e18b60be77764a5e48b": {
          "model_module": "@jupyter-widgets/controls",
          "model_module_version": "1.5.0",
          "model_name": "HTMLModel",
          "state": {
            "_dom_classes": [],
            "_model_module": "@jupyter-widgets/controls",
            "_model_module_version": "1.5.0",
            "_model_name": "HTMLModel",
            "_view_count": null,
            "_view_module": "@jupyter-widgets/controls",
            "_view_module_version": "1.5.0",
            "_view_name": "HTMLView",
            "description": "",
            "description_tooltip": null,
            "layout": "IPY_MODEL_d5fd3018fcaf409aaad397b005849d34",
            "placeholder": "​",
            "style": "IPY_MODEL_322ee1b096584353992b129c6ececc92",
            "value": "model-00002-of-00002.safetensors: 100%"
          }
        },
        "08a3b0ceb8d14b38a28913a05c371bba": {
          "model_module": "@jupyter-widgets/base",
          "model_module_version": "1.2.0",
          "model_name": "LayoutModel",
          "state": {
            "_model_module": "@jupyter-widgets/base",
            "_model_module_version": "1.2.0",
            "_model_name": "LayoutModel",
            "_view_count": null,
            "_view_module": "@jupyter-widgets/base",
            "_view_module_version": "1.2.0",
            "_view_name": "LayoutView",
            "align_content": null,
            "align_items": null,
            "align_self": null,
            "border": null,
            "bottom": null,
            "display": null,
            "flex": null,
            "flex_flow": null,
            "grid_area": null,
            "grid_auto_columns": null,
            "grid_auto_flow": null,
            "grid_auto_rows": null,
            "grid_column": null,
            "grid_gap": null,
            "grid_row": null,
            "grid_template_areas": null,
            "grid_template_columns": null,
            "grid_template_rows": null,
            "height": null,
            "justify_content": null,
            "justify_items": null,
            "left": null,
            "margin": null,
            "max_height": null,
            "max_width": null,
            "min_height": null,
            "min_width": null,
            "object_fit": null,
            "object_position": null,
            "order": null,
            "overflow": null,
            "overflow_x": null,
            "overflow_y": null,
            "padding": null,
            "right": null,
            "top": null,
            "visibility": null,
            "width": null
          }
        },
        "0b185d0616ab4341a1e09966812a6b4e": {
          "model_module": "@jupyter-widgets/base",
          "model_module_version": "1.2.0",
          "model_name": "LayoutModel",
          "state": {
            "_model_module": "@jupyter-widgets/base",
            "_model_module_version": "1.2.0",
            "_model_name": "LayoutModel",
            "_view_count": null,
            "_view_module": "@jupyter-widgets/base",
            "_view_module_version": "1.2.0",
            "_view_name": "LayoutView",
            "align_content": null,
            "align_items": null,
            "align_self": null,
            "border": null,
            "bottom": null,
            "display": null,
            "flex": null,
            "flex_flow": null,
            "grid_area": null,
            "grid_auto_columns": null,
            "grid_auto_flow": null,
            "grid_auto_rows": null,
            "grid_column": null,
            "grid_gap": null,
            "grid_row": null,
            "grid_template_areas": null,
            "grid_template_columns": null,
            "grid_template_rows": null,
            "height": null,
            "justify_content": null,
            "justify_items": null,
            "left": null,
            "margin": null,
            "max_height": null,
            "max_width": null,
            "min_height": null,
            "min_width": null,
            "object_fit": null,
            "object_position": null,
            "order": null,
            "overflow": null,
            "overflow_x": null,
            "overflow_y": null,
            "padding": null,
            "right": null,
            "top": null,
            "visibility": null,
            "width": null
          }
        },
        "0cd9e13c213245af98dec4f5eb008f3a": {
          "model_module": "@jupyter-widgets/controls",
          "model_module_version": "1.5.0",
          "model_name": "DescriptionStyleModel",
          "state": {
            "_model_module": "@jupyter-widgets/controls",
            "_model_module_version": "1.5.0",
            "_model_name": "DescriptionStyleModel",
            "_view_count": null,
            "_view_module": "@jupyter-widgets/base",
            "_view_module_version": "1.2.0",
            "_view_name": "StyleView",
            "description_width": ""
          }
        },
        "12c2f2ba870d48ec837b2121bbb95437": {
          "model_module": "@jupyter-widgets/controls",
          "model_module_version": "1.5.0",
          "model_name": "HTMLModel",
          "state": {
            "_dom_classes": [],
            "_model_module": "@jupyter-widgets/controls",
            "_model_module_version": "1.5.0",
            "_model_name": "HTMLModel",
            "_view_count": null,
            "_view_module": "@jupyter-widgets/controls",
            "_view_module_version": "1.5.0",
            "_view_name": "HTMLView",
            "description": "",
            "description_tooltip": null,
            "layout": "IPY_MODEL_9c8e87637bc544ce8c74d40bc9979eb1",
            "placeholder": "​",
            "style": "IPY_MODEL_b2dde49487e7474797e3f4acd0020407",
            "value": " 54.5k/54.5k [00:00&lt;00:00, 4.43MB/s]"
          }
        },
        "13857a463e704bdda2bbcb2a3a7ee07f": {
          "model_module": "@jupyter-widgets/controls",
          "model_module_version": "1.5.0",
          "model_name": "FloatProgressModel",
          "state": {
            "_dom_classes": [],
            "_model_module": "@jupyter-widgets/controls",
            "_model_module_version": "1.5.0",
            "_model_name": "FloatProgressModel",
            "_view_count": null,
            "_view_module": "@jupyter-widgets/controls",
            "_view_module_version": "1.5.0",
            "_view_name": "ProgressView",
            "bar_style": "success",
            "description": "",
            "description_tooltip": null,
            "layout": "IPY_MODEL_f89f03db528247d8a8ee42072d818e4e",
            "max": 4965799096,
            "min": 0,
            "orientation": "horizontal",
            "style": "IPY_MODEL_c2c8f166202243358b7f7ce01aab4be3",
            "value": 4965799096
          }
        },
        "14a719097f3e4195a20fdfef9a22cb4f": {
          "model_module": "@jupyter-widgets/controls",
          "model_module_version": "1.5.0",
          "model_name": "ProgressStyleModel",
          "state": {
            "_model_module": "@jupyter-widgets/controls",
            "_model_module_version": "1.5.0",
            "_model_name": "ProgressStyleModel",
            "_view_count": null,
            "_view_module": "@jupyter-widgets/base",
            "_view_module_version": "1.2.0",
            "_view_name": "StyleView",
            "bar_color": null,
            "description_width": ""
          }
        },
        "155d98071c024d73be47195cefc417a0": {
          "model_module": "@jupyter-widgets/controls",
          "model_module_version": "1.5.0",
          "model_name": "DescriptionStyleModel",
          "state": {
            "_model_module": "@jupyter-widgets/controls",
            "_model_module_version": "1.5.0",
            "_model_name": "DescriptionStyleModel",
            "_view_count": null,
            "_view_module": "@jupyter-widgets/base",
            "_view_module_version": "1.2.0",
            "_view_name": "StyleView",
            "description_width": ""
          }
        },
        "16a4e7b0705f4cd286866f9c9dcd4a7f": {
          "model_module": "@jupyter-widgets/base",
          "model_module_version": "1.2.0",
          "model_name": "LayoutModel",
          "state": {
            "_model_module": "@jupyter-widgets/base",
            "_model_module_version": "1.2.0",
            "_model_name": "LayoutModel",
            "_view_count": null,
            "_view_module": "@jupyter-widgets/base",
            "_view_module_version": "1.2.0",
            "_view_name": "LayoutView",
            "align_content": null,
            "align_items": null,
            "align_self": null,
            "border": null,
            "bottom": null,
            "display": null,
            "flex": null,
            "flex_flow": null,
            "grid_area": null,
            "grid_auto_columns": null,
            "grid_auto_flow": null,
            "grid_auto_rows": null,
            "grid_column": null,
            "grid_gap": null,
            "grid_row": null,
            "grid_template_areas": null,
            "grid_template_columns": null,
            "grid_template_rows": null,
            "height": null,
            "justify_content": null,
            "justify_items": null,
            "left": null,
            "margin": null,
            "max_height": null,
            "max_width": null,
            "min_height": null,
            "min_width": null,
            "object_fit": null,
            "object_position": null,
            "order": null,
            "overflow": null,
            "overflow_x": null,
            "overflow_y": null,
            "padding": null,
            "right": null,
            "top": null,
            "visibility": null,
            "width": null
          }
        },
        "1b63500525a74c138bd4fb152053a88d": {
          "model_module": "@jupyter-widgets/base",
          "model_module_version": "1.2.0",
          "model_name": "LayoutModel",
          "state": {
            "_model_module": "@jupyter-widgets/base",
            "_model_module_version": "1.2.0",
            "_model_name": "LayoutModel",
            "_view_count": null,
            "_view_module": "@jupyter-widgets/base",
            "_view_module_version": "1.2.0",
            "_view_name": "LayoutView",
            "align_content": null,
            "align_items": null,
            "align_self": null,
            "border": null,
            "bottom": null,
            "display": null,
            "flex": null,
            "flex_flow": null,
            "grid_area": null,
            "grid_auto_columns": null,
            "grid_auto_flow": null,
            "grid_auto_rows": null,
            "grid_column": null,
            "grid_gap": null,
            "grid_row": null,
            "grid_template_areas": null,
            "grid_template_columns": null,
            "grid_template_rows": null,
            "height": null,
            "justify_content": null,
            "justify_items": null,
            "left": null,
            "margin": null,
            "max_height": null,
            "max_width": null,
            "min_height": null,
            "min_width": null,
            "object_fit": null,
            "object_position": null,
            "order": null,
            "overflow": null,
            "overflow_x": null,
            "overflow_y": null,
            "padding": null,
            "right": null,
            "top": null,
            "visibility": null,
            "width": null
          }
        },
        "1bba73116b8e4045912551dc8571828c": {
          "model_module": "@jupyter-widgets/controls",
          "model_module_version": "1.5.0",
          "model_name": "HTMLModel",
          "state": {
            "_dom_classes": [],
            "_model_module": "@jupyter-widgets/controls",
            "_model_module_version": "1.5.0",
            "_model_name": "HTMLModel",
            "_view_count": null,
            "_view_module": "@jupyter-widgets/controls",
            "_view_module_version": "1.5.0",
            "_view_name": "HTMLView",
            "description": "",
            "description_tooltip": null,
            "layout": "IPY_MODEL_bd4a545b355c4aeba9dae755dc730b76",
            "placeholder": "​",
            "style": "IPY_MODEL_4b478a7a9a5c439e9ea7307940b091b8",
            "value": " 296/296 [00:00&lt;00:00, 29.1kB/s]"
          }
        },
        "1ce68f55f2e849a9a73c965f9e89c023": {
          "model_module": "@jupyter-widgets/controls",
          "model_module_version": "1.5.0",
          "model_name": "DescriptionStyleModel",
          "state": {
            "_model_module": "@jupyter-widgets/controls",
            "_model_module_version": "1.5.0",
            "_model_name": "DescriptionStyleModel",
            "_view_count": null,
            "_view_module": "@jupyter-widgets/base",
            "_view_module_version": "1.2.0",
            "_view_name": "StyleView",
            "description_width": ""
          }
        },
        "1fffd50fced740c496e2461b5f9bb6f4": {
          "model_module": "@jupyter-widgets/controls",
          "model_module_version": "1.5.0",
          "model_name": "ProgressStyleModel",
          "state": {
            "_model_module": "@jupyter-widgets/controls",
            "_model_module_version": "1.5.0",
            "_model_name": "ProgressStyleModel",
            "_view_count": null,
            "_view_module": "@jupyter-widgets/base",
            "_view_module_version": "1.2.0",
            "_view_name": "StyleView",
            "bar_color": null,
            "description_width": ""
          }
        },
        "27d39c5889bb4f34878d84f754245859": {
          "model_module": "@jupyter-widgets/base",
          "model_module_version": "1.2.0",
          "model_name": "LayoutModel",
          "state": {
            "_model_module": "@jupyter-widgets/base",
            "_model_module_version": "1.2.0",
            "_model_name": "LayoutModel",
            "_view_count": null,
            "_view_module": "@jupyter-widgets/base",
            "_view_module_version": "1.2.0",
            "_view_name": "LayoutView",
            "align_content": null,
            "align_items": null,
            "align_self": null,
            "border": null,
            "bottom": null,
            "display": null,
            "flex": null,
            "flex_flow": null,
            "grid_area": null,
            "grid_auto_columns": null,
            "grid_auto_flow": null,
            "grid_auto_rows": null,
            "grid_column": null,
            "grid_gap": null,
            "grid_row": null,
            "grid_template_areas": null,
            "grid_template_columns": null,
            "grid_template_rows": null,
            "height": null,
            "justify_content": null,
            "justify_items": null,
            "left": null,
            "margin": null,
            "max_height": null,
            "max_width": null,
            "min_height": null,
            "min_width": null,
            "object_fit": null,
            "object_position": null,
            "order": null,
            "overflow": null,
            "overflow_x": null,
            "overflow_y": null,
            "padding": null,
            "right": null,
            "top": null,
            "visibility": null,
            "width": null
          }
        },
        "2945064d4c554728b68d0578b4d45d15": {
          "model_module": "@jupyter-widgets/base",
          "model_module_version": "1.2.0",
          "model_name": "LayoutModel",
          "state": {
            "_model_module": "@jupyter-widgets/base",
            "_model_module_version": "1.2.0",
            "_model_name": "LayoutModel",
            "_view_count": null,
            "_view_module": "@jupyter-widgets/base",
            "_view_module_version": "1.2.0",
            "_view_name": "LayoutView",
            "align_content": null,
            "align_items": null,
            "align_self": null,
            "border": null,
            "bottom": null,
            "display": null,
            "flex": null,
            "flex_flow": null,
            "grid_area": null,
            "grid_auto_columns": null,
            "grid_auto_flow": null,
            "grid_auto_rows": null,
            "grid_column": null,
            "grid_gap": null,
            "grid_row": null,
            "grid_template_areas": null,
            "grid_template_columns": null,
            "grid_template_rows": null,
            "height": null,
            "justify_content": null,
            "justify_items": null,
            "left": null,
            "margin": null,
            "max_height": null,
            "max_width": null,
            "min_height": null,
            "min_width": null,
            "object_fit": null,
            "object_position": null,
            "order": null,
            "overflow": null,
            "overflow_x": null,
            "overflow_y": null,
            "padding": null,
            "right": null,
            "top": null,
            "visibility": null,
            "width": null
          }
        },
        "29cc8dce46aa420796ec983e963521e6": {
          "model_module": "@jupyter-widgets/controls",
          "model_module_version": "1.5.0",
          "model_name": "HBoxModel",
          "state": {
            "_dom_classes": [],
            "_model_module": "@jupyter-widgets/controls",
            "_model_module_version": "1.5.0",
            "_model_name": "HBoxModel",
            "_view_count": null,
            "_view_module": "@jupyter-widgets/controls",
            "_view_module_version": "1.5.0",
            "_view_name": "HBoxView",
            "box_style": "",
            "children": [
              "IPY_MODEL_6473500752dd4945aca3f1ff573105d1",
              "IPY_MODEL_4ac14c1047e142e1a7d5eb6e42a5f8b7",
              "IPY_MODEL_1bba73116b8e4045912551dc8571828c"
            ],
            "layout": "IPY_MODEL_9743b98e63c3449cbbc8de4570e06636"
          }
        },
        "2a2f82e7c4a14f3a87299bb9995a7691": {
          "model_module": "@jupyter-widgets/base",
          "model_module_version": "1.2.0",
          "model_name": "LayoutModel",
          "state": {
            "_model_module": "@jupyter-widgets/base",
            "_model_module_version": "1.2.0",
            "_model_name": "LayoutModel",
            "_view_count": null,
            "_view_module": "@jupyter-widgets/base",
            "_view_module_version": "1.2.0",
            "_view_name": "LayoutView",
            "align_content": null,
            "align_items": null,
            "align_self": null,
            "border": null,
            "bottom": null,
            "display": null,
            "flex": null,
            "flex_flow": null,
            "grid_area": null,
            "grid_auto_columns": null,
            "grid_auto_flow": null,
            "grid_auto_rows": null,
            "grid_column": null,
            "grid_gap": null,
            "grid_row": null,
            "grid_template_areas": null,
            "grid_template_columns": null,
            "grid_template_rows": null,
            "height": null,
            "justify_content": null,
            "justify_items": null,
            "left": null,
            "margin": null,
            "max_height": null,
            "max_width": null,
            "min_height": null,
            "min_width": null,
            "object_fit": null,
            "object_position": null,
            "order": null,
            "overflow": null,
            "overflow_x": null,
            "overflow_y": null,
            "padding": null,
            "right": null,
            "top": null,
            "visibility": null,
            "width": null
          }
        },
        "2bd92dcde49e4fbab91539b75f86374a": {
          "model_module": "@jupyter-widgets/controls",
          "model_module_version": "1.5.0",
          "model_name": "ProgressStyleModel",
          "state": {
            "_model_module": "@jupyter-widgets/controls",
            "_model_module_version": "1.5.0",
            "_model_name": "ProgressStyleModel",
            "_view_count": null,
            "_view_module": "@jupyter-widgets/base",
            "_view_module_version": "1.2.0",
            "_view_name": "StyleView",
            "bar_color": null,
            "description_width": ""
          }
        },
        "2c6ec6cdd66a40ce853909de125d6a4c": {
          "model_module": "@jupyter-widgets/base",
          "model_module_version": "1.2.0",
          "model_name": "LayoutModel",
          "state": {
            "_model_module": "@jupyter-widgets/base",
            "_model_module_version": "1.2.0",
            "_model_name": "LayoutModel",
            "_view_count": null,
            "_view_module": "@jupyter-widgets/base",
            "_view_module_version": "1.2.0",
            "_view_name": "LayoutView",
            "align_content": null,
            "align_items": null,
            "align_self": null,
            "border": null,
            "bottom": null,
            "display": null,
            "flex": null,
            "flex_flow": null,
            "grid_area": null,
            "grid_auto_columns": null,
            "grid_auto_flow": null,
            "grid_auto_rows": null,
            "grid_column": null,
            "grid_gap": null,
            "grid_row": null,
            "grid_template_areas": null,
            "grid_template_columns": null,
            "grid_template_rows": null,
            "height": null,
            "justify_content": null,
            "justify_items": null,
            "left": null,
            "margin": null,
            "max_height": null,
            "max_width": null,
            "min_height": null,
            "min_width": null,
            "object_fit": null,
            "object_position": null,
            "order": null,
            "overflow": null,
            "overflow_x": null,
            "overflow_y": null,
            "padding": null,
            "right": null,
            "top": null,
            "visibility": null,
            "width": null
          }
        },
        "2d4ed9562ebe4c62bd20164b74327bff": {
          "model_module": "@jupyter-widgets/base",
          "model_module_version": "1.2.0",
          "model_name": "LayoutModel",
          "state": {
            "_model_module": "@jupyter-widgets/base",
            "_model_module_version": "1.2.0",
            "_model_name": "LayoutModel",
            "_view_count": null,
            "_view_module": "@jupyter-widgets/base",
            "_view_module_version": "1.2.0",
            "_view_name": "LayoutView",
            "align_content": null,
            "align_items": null,
            "align_self": null,
            "border": null,
            "bottom": null,
            "display": null,
            "flex": null,
            "flex_flow": null,
            "grid_area": null,
            "grid_auto_columns": null,
            "grid_auto_flow": null,
            "grid_auto_rows": null,
            "grid_column": null,
            "grid_gap": null,
            "grid_row": null,
            "grid_template_areas": null,
            "grid_template_columns": null,
            "grid_template_rows": null,
            "height": null,
            "justify_content": null,
            "justify_items": null,
            "left": null,
            "margin": null,
            "max_height": null,
            "max_width": null,
            "min_height": null,
            "min_width": null,
            "object_fit": null,
            "object_position": null,
            "order": null,
            "overflow": null,
            "overflow_x": null,
            "overflow_y": null,
            "padding": null,
            "right": null,
            "top": null,
            "visibility": null,
            "width": null
          }
        },
        "2d935ff76cd8442096bf3666937f575a": {
          "model_module": "@jupyter-widgets/controls",
          "model_module_version": "1.5.0",
          "model_name": "HTMLModel",
          "state": {
            "_dom_classes": [],
            "_model_module": "@jupyter-widgets/controls",
            "_model_module_version": "1.5.0",
            "_model_name": "HTMLModel",
            "_view_count": null,
            "_view_module": "@jupyter-widgets/controls",
            "_view_module_version": "1.5.0",
            "_view_name": "HTMLView",
            "description": "",
            "description_tooltip": null,
            "layout": "IPY_MODEL_2d4ed9562ebe4c62bd20164b74327bff",
            "placeholder": "​",
            "style": "IPY_MODEL_8b40324d848e474bbafefd49921b4aab",
            "value": " 1.46G/1.46G [06:47&lt;00:00, 1.66MB/s]"
          }
        },
        "2f31437573e547cd8c009db3c45d6288": {
          "model_module": "@jupyter-widgets/base",
          "model_module_version": "1.2.0",
          "model_name": "LayoutModel",
          "state": {
            "_model_module": "@jupyter-widgets/base",
            "_model_module_version": "1.2.0",
            "_model_name": "LayoutModel",
            "_view_count": null,
            "_view_module": "@jupyter-widgets/base",
            "_view_module_version": "1.2.0",
            "_view_name": "LayoutView",
            "align_content": null,
            "align_items": null,
            "align_self": null,
            "border": null,
            "bottom": null,
            "display": null,
            "flex": null,
            "flex_flow": null,
            "grid_area": null,
            "grid_auto_columns": null,
            "grid_auto_flow": null,
            "grid_auto_rows": null,
            "grid_column": null,
            "grid_gap": null,
            "grid_row": null,
            "grid_template_areas": null,
            "grid_template_columns": null,
            "grid_template_rows": null,
            "height": null,
            "justify_content": null,
            "justify_items": null,
            "left": null,
            "margin": null,
            "max_height": null,
            "max_width": null,
            "min_height": null,
            "min_width": null,
            "object_fit": null,
            "object_position": null,
            "order": null,
            "overflow": null,
            "overflow_x": null,
            "overflow_y": null,
            "padding": null,
            "right": null,
            "top": null,
            "visibility": null,
            "width": null
          }
        },
        "322ee1b096584353992b129c6ececc92": {
          "model_module": "@jupyter-widgets/controls",
          "model_module_version": "1.5.0",
          "model_name": "DescriptionStyleModel",
          "state": {
            "_model_module": "@jupyter-widgets/controls",
            "_model_module_version": "1.5.0",
            "_model_name": "DescriptionStyleModel",
            "_view_count": null,
            "_view_module": "@jupyter-widgets/base",
            "_view_module_version": "1.2.0",
            "_view_name": "StyleView",
            "description_width": ""
          }
        },
        "3358efb1735c4bfcb9e5b81787027bca": {
          "model_module": "@jupyter-widgets/base",
          "model_module_version": "1.2.0",
          "model_name": "LayoutModel",
          "state": {
            "_model_module": "@jupyter-widgets/base",
            "_model_module_version": "1.2.0",
            "_model_name": "LayoutModel",
            "_view_count": null,
            "_view_module": "@jupyter-widgets/base",
            "_view_module_version": "1.2.0",
            "_view_name": "LayoutView",
            "align_content": null,
            "align_items": null,
            "align_self": null,
            "border": null,
            "bottom": null,
            "display": null,
            "flex": null,
            "flex_flow": null,
            "grid_area": null,
            "grid_auto_columns": null,
            "grid_auto_flow": null,
            "grid_auto_rows": null,
            "grid_column": null,
            "grid_gap": null,
            "grid_row": null,
            "grid_template_areas": null,
            "grid_template_columns": null,
            "grid_template_rows": null,
            "height": null,
            "justify_content": null,
            "justify_items": null,
            "left": null,
            "margin": null,
            "max_height": null,
            "max_width": null,
            "min_height": null,
            "min_width": null,
            "object_fit": null,
            "object_position": null,
            "order": null,
            "overflow": null,
            "overflow_x": null,
            "overflow_y": null,
            "padding": null,
            "right": null,
            "top": null,
            "visibility": null,
            "width": null
          }
        },
        "351863e5fd4c401fa93e4fbafbf517af": {
          "model_module": "@jupyter-widgets/controls",
          "model_module_version": "1.5.0",
          "model_name": "FloatProgressModel",
          "state": {
            "_dom_classes": [],
            "_model_module": "@jupyter-widgets/controls",
            "_model_module_version": "1.5.0",
            "_model_name": "FloatProgressModel",
            "_view_count": null,
            "_view_module": "@jupyter-widgets/controls",
            "_view_module_version": "1.5.0",
            "_view_name": "ProgressView",
            "bar_style": "success",
            "description": "",
            "description_tooltip": null,
            "layout": "IPY_MODEL_f6153841133c49a58b05258787656e13",
            "max": 2,
            "min": 0,
            "orientation": "horizontal",
            "style": "IPY_MODEL_d8972886fd624eaea5b28e8a6c0dda41",
            "value": 2
          }
        },
        "3ad8f3fbb09e45eca246de5d01d7d47c": {
          "model_module": "@jupyter-widgets/base",
          "model_module_version": "1.2.0",
          "model_name": "LayoutModel",
          "state": {
            "_model_module": "@jupyter-widgets/base",
            "_model_module_version": "1.2.0",
            "_model_name": "LayoutModel",
            "_view_count": null,
            "_view_module": "@jupyter-widgets/base",
            "_view_module_version": "1.2.0",
            "_view_name": "LayoutView",
            "align_content": null,
            "align_items": null,
            "align_self": null,
            "border": null,
            "bottom": null,
            "display": null,
            "flex": null,
            "flex_flow": null,
            "grid_area": null,
            "grid_auto_columns": null,
            "grid_auto_flow": null,
            "grid_auto_rows": null,
            "grid_column": null,
            "grid_gap": null,
            "grid_row": null,
            "grid_template_areas": null,
            "grid_template_columns": null,
            "grid_template_rows": null,
            "height": null,
            "justify_content": null,
            "justify_items": null,
            "left": null,
            "margin": null,
            "max_height": null,
            "max_width": null,
            "min_height": null,
            "min_width": null,
            "object_fit": null,
            "object_position": null,
            "order": null,
            "overflow": null,
            "overflow_x": null,
            "overflow_y": null,
            "padding": null,
            "right": null,
            "top": null,
            "visibility": null,
            "width": null
          }
        },
        "3d0577430c364a9f829faf1e089a2069": {
          "model_module": "@jupyter-widgets/controls",
          "model_module_version": "1.5.0",
          "model_name": "HBoxModel",
          "state": {
            "_dom_classes": [],
            "_model_module": "@jupyter-widgets/controls",
            "_model_module_version": "1.5.0",
            "_model_name": "HBoxModel",
            "_view_count": null,
            "_view_module": "@jupyter-widgets/controls",
            "_view_module_version": "1.5.0",
            "_view_name": "HBoxView",
            "box_style": "",
            "children": [
              "IPY_MODEL_071c871dae734e18b60be77764a5e48b",
              "IPY_MODEL_ba89e69a3c7d465d89447d8478df1337",
              "IPY_MODEL_2d935ff76cd8442096bf3666937f575a"
            ],
            "layout": "IPY_MODEL_75249d98d7434df080e373558012307b"
          }
        },
        "3e8c2f708d2347aa9109b6aa1986858a": {
          "model_module": "@jupyter-widgets/controls",
          "model_module_version": "1.5.0",
          "model_name": "HBoxModel",
          "state": {
            "_dom_classes": [],
            "_model_module": "@jupyter-widgets/controls",
            "_model_module_version": "1.5.0",
            "_model_name": "HBoxModel",
            "_view_count": null,
            "_view_module": "@jupyter-widgets/controls",
            "_view_module_version": "1.5.0",
            "_view_name": "HBoxView",
            "box_style": "",
            "children": [
              "IPY_MODEL_764774df10094e6d9718e7145294a02c",
              "IPY_MODEL_351863e5fd4c401fa93e4fbafbf517af",
              "IPY_MODEL_fe42aa556b6a4df785c06bd15d625f8d"
            ],
            "layout": "IPY_MODEL_2c6ec6cdd66a40ce853909de125d6a4c"
          }
        },
        "3ff4191ebd5f4b508ca03718f55dd364": {
          "model_module": "@jupyter-widgets/base",
          "model_module_version": "1.2.0",
          "model_name": "LayoutModel",
          "state": {
            "_model_module": "@jupyter-widgets/base",
            "_model_module_version": "1.2.0",
            "_model_name": "LayoutModel",
            "_view_count": null,
            "_view_module": "@jupyter-widgets/base",
            "_view_module_version": "1.2.0",
            "_view_name": "LayoutView",
            "align_content": null,
            "align_items": null,
            "align_self": null,
            "border": null,
            "bottom": null,
            "display": null,
            "flex": null,
            "flex_flow": null,
            "grid_area": null,
            "grid_auto_columns": null,
            "grid_auto_flow": null,
            "grid_auto_rows": null,
            "grid_column": null,
            "grid_gap": null,
            "grid_row": null,
            "grid_template_areas": null,
            "grid_template_columns": null,
            "grid_template_rows": null,
            "height": null,
            "justify_content": null,
            "justify_items": null,
            "left": null,
            "margin": null,
            "max_height": null,
            "max_width": null,
            "min_height": null,
            "min_width": null,
            "object_fit": null,
            "object_position": null,
            "order": null,
            "overflow": null,
            "overflow_x": null,
            "overflow_y": null,
            "padding": null,
            "right": null,
            "top": null,
            "visibility": null,
            "width": null
          }
        },
        "415254cb0dcd4210a808c3b101813883": {
          "model_module": "@jupyter-widgets/base",
          "model_module_version": "1.2.0",
          "model_name": "LayoutModel",
          "state": {
            "_model_module": "@jupyter-widgets/base",
            "_model_module_version": "1.2.0",
            "_model_name": "LayoutModel",
            "_view_count": null,
            "_view_module": "@jupyter-widgets/base",
            "_view_module_version": "1.2.0",
            "_view_name": "LayoutView",
            "align_content": null,
            "align_items": null,
            "align_self": null,
            "border": null,
            "bottom": null,
            "display": null,
            "flex": null,
            "flex_flow": null,
            "grid_area": null,
            "grid_auto_columns": null,
            "grid_auto_flow": null,
            "grid_auto_rows": null,
            "grid_column": null,
            "grid_gap": null,
            "grid_row": null,
            "grid_template_areas": null,
            "grid_template_columns": null,
            "grid_template_rows": null,
            "height": null,
            "justify_content": null,
            "justify_items": null,
            "left": null,
            "margin": null,
            "max_height": null,
            "max_width": null,
            "min_height": null,
            "min_width": null,
            "object_fit": null,
            "object_position": null,
            "order": null,
            "overflow": null,
            "overflow_x": null,
            "overflow_y": null,
            "padding": null,
            "right": null,
            "top": null,
            "visibility": null,
            "width": null
          }
        },
        "436cb5e51fa94a4fa3ca0a4905877b12": {
          "model_module": "@jupyter-widgets/controls",
          "model_module_version": "1.5.0",
          "model_name": "HTMLModel",
          "state": {
            "_dom_classes": [],
            "_model_module": "@jupyter-widgets/controls",
            "_model_module_version": "1.5.0",
            "_model_name": "HTMLModel",
            "_view_count": null,
            "_view_module": "@jupyter-widgets/controls",
            "_view_module_version": "1.5.0",
            "_view_name": "HTMLView",
            "description": "",
            "description_tooltip": null,
            "layout": "IPY_MODEL_16a4e7b0705f4cd286866f9c9dcd4a7f",
            "placeholder": "​",
            "style": "IPY_MODEL_6048aa96eb7b4748b257c4e36949abff",
            "value": "model.safetensors.index.json: 100%"
          }
        },
        "43f07a1b8b714b75a6ff85ad33890e1a": {
          "model_module": "@jupyter-widgets/controls",
          "model_module_version": "1.5.0",
          "model_name": "HTMLModel",
          "state": {
            "_dom_classes": [],
            "_model_module": "@jupyter-widgets/controls",
            "_model_module_version": "1.5.0",
            "_model_name": "HTMLModel",
            "_view_count": null,
            "_view_module": "@jupyter-widgets/controls",
            "_view_module_version": "1.5.0",
            "_view_name": "HTMLView",
            "description": "",
            "description_tooltip": null,
            "layout": "IPY_MODEL_a0cfadc8d9394260bf6291108d6626ea",
            "placeholder": "​",
            "style": "IPY_MODEL_c503e6aa59c14a7c97b84e9e463e57af",
            "value": " 2/2 [00:23&lt;00:00, 10.54s/it]"
          }
        },
        "47427adf3cb447c3a115de604d082706": {
          "model_module": "@jupyter-widgets/controls",
          "model_module_version": "1.5.0",
          "model_name": "DescriptionStyleModel",
          "state": {
            "_model_module": "@jupyter-widgets/controls",
            "_model_module_version": "1.5.0",
            "_model_name": "DescriptionStyleModel",
            "_view_count": null,
            "_view_module": "@jupyter-widgets/base",
            "_view_module_version": "1.2.0",
            "_view_name": "StyleView",
            "description_width": ""
          }
        },
        "48f9b299a89a46f0a6d4d58ec927697e": {
          "model_module": "@jupyter-widgets/base",
          "model_module_version": "1.2.0",
          "model_name": "LayoutModel",
          "state": {
            "_model_module": "@jupyter-widgets/base",
            "_model_module_version": "1.2.0",
            "_model_name": "LayoutModel",
            "_view_count": null,
            "_view_module": "@jupyter-widgets/base",
            "_view_module_version": "1.2.0",
            "_view_name": "LayoutView",
            "align_content": null,
            "align_items": null,
            "align_self": null,
            "border": null,
            "bottom": null,
            "display": null,
            "flex": null,
            "flex_flow": null,
            "grid_area": null,
            "grid_auto_columns": null,
            "grid_auto_flow": null,
            "grid_auto_rows": null,
            "grid_column": null,
            "grid_gap": null,
            "grid_row": null,
            "grid_template_areas": null,
            "grid_template_columns": null,
            "grid_template_rows": null,
            "height": null,
            "justify_content": null,
            "justify_items": null,
            "left": null,
            "margin": null,
            "max_height": null,
            "max_width": null,
            "min_height": null,
            "min_width": null,
            "object_fit": null,
            "object_position": null,
            "order": null,
            "overflow": null,
            "overflow_x": null,
            "overflow_y": null,
            "padding": null,
            "right": null,
            "top": null,
            "visibility": null,
            "width": null
          }
        },
        "4ac14c1047e142e1a7d5eb6e42a5f8b7": {
          "model_module": "@jupyter-widgets/controls",
          "model_module_version": "1.5.0",
          "model_name": "FloatProgressModel",
          "state": {
            "_dom_classes": [],
            "_model_module": "@jupyter-widgets/controls",
            "_model_module_version": "1.5.0",
            "_model_name": "FloatProgressModel",
            "_view_count": null,
            "_view_module": "@jupyter-widgets/controls",
            "_view_module_version": "1.5.0",
            "_view_name": "ProgressView",
            "bar_style": "success",
            "description": "",
            "description_tooltip": null,
            "layout": "IPY_MODEL_3ad8f3fbb09e45eca246de5d01d7d47c",
            "max": 296,
            "min": 0,
            "orientation": "horizontal",
            "style": "IPY_MODEL_de528303f15645d299cc6e9361af86d4",
            "value": 296
          }
        },
        "4b478a7a9a5c439e9ea7307940b091b8": {
          "model_module": "@jupyter-widgets/controls",
          "model_module_version": "1.5.0",
          "model_name": "DescriptionStyleModel",
          "state": {
            "_model_module": "@jupyter-widgets/controls",
            "_model_module_version": "1.5.0",
            "_model_name": "DescriptionStyleModel",
            "_view_count": null,
            "_view_module": "@jupyter-widgets/base",
            "_view_module_version": "1.2.0",
            "_view_name": "StyleView",
            "description_width": ""
          }
        },
        "4c6f1c7485bd483a8679734bc9929be6": {
          "model_module": "@jupyter-widgets/base",
          "model_module_version": "1.2.0",
          "model_name": "LayoutModel",
          "state": {
            "_model_module": "@jupyter-widgets/base",
            "_model_module_version": "1.2.0",
            "_model_name": "LayoutModel",
            "_view_count": null,
            "_view_module": "@jupyter-widgets/base",
            "_view_module_version": "1.2.0",
            "_view_name": "LayoutView",
            "align_content": null,
            "align_items": null,
            "align_self": null,
            "border": null,
            "bottom": null,
            "display": null,
            "flex": null,
            "flex_flow": null,
            "grid_area": null,
            "grid_auto_columns": null,
            "grid_auto_flow": null,
            "grid_auto_rows": null,
            "grid_column": null,
            "grid_gap": null,
            "grid_row": null,
            "grid_template_areas": null,
            "grid_template_columns": null,
            "grid_template_rows": null,
            "height": null,
            "justify_content": null,
            "justify_items": null,
            "left": null,
            "margin": null,
            "max_height": null,
            "max_width": null,
            "min_height": null,
            "min_width": null,
            "object_fit": null,
            "object_position": null,
            "order": null,
            "overflow": null,
            "overflow_x": null,
            "overflow_y": null,
            "padding": null,
            "right": null,
            "top": null,
            "visibility": null,
            "width": null
          }
        },
        "4e5f8757170144959c400ab455359486": {
          "model_module": "@jupyter-widgets/controls",
          "model_module_version": "1.5.0",
          "model_name": "DescriptionStyleModel",
          "state": {
            "_model_module": "@jupyter-widgets/controls",
            "_model_module_version": "1.5.0",
            "_model_name": "DescriptionStyleModel",
            "_view_count": null,
            "_view_module": "@jupyter-widgets/base",
            "_view_module_version": "1.2.0",
            "_view_name": "StyleView",
            "description_width": ""
          }
        },
        "4efc7876cc804204b0a4154b67b84af4": {
          "model_module": "@jupyter-widgets/controls",
          "model_module_version": "1.5.0",
          "model_name": "HBoxModel",
          "state": {
            "_dom_classes": [],
            "_model_module": "@jupyter-widgets/controls",
            "_model_module_version": "1.5.0",
            "_model_name": "HBoxModel",
            "_view_count": null,
            "_view_module": "@jupyter-widgets/controls",
            "_view_module_version": "1.5.0",
            "_view_name": "HBoxView",
            "box_style": "",
            "children": [
              "IPY_MODEL_d0862abff81046b69eaa676dfca8537e",
              "IPY_MODEL_063f590941b24ca996f196b442029498",
              "IPY_MODEL_f8b90274efc14aef828b5da3e6444252"
            ],
            "layout": "IPY_MODEL_a47c3f71c635479aba79404df87ab2e9"
          }
        },
        "504b48ab7c1143d68709e80f7dbfed73": {
          "model_module": "@jupyter-widgets/controls",
          "model_module_version": "1.5.0",
          "model_name": "DescriptionStyleModel",
          "state": {
            "_model_module": "@jupyter-widgets/controls",
            "_model_module_version": "1.5.0",
            "_model_name": "DescriptionStyleModel",
            "_view_count": null,
            "_view_module": "@jupyter-widgets/base",
            "_view_module_version": "1.2.0",
            "_view_name": "StyleView",
            "description_width": ""
          }
        },
        "50d6303ae9204951a70e0c8a16fdc0a1": {
          "model_module": "@jupyter-widgets/controls",
          "model_module_version": "1.5.0",
          "model_name": "FloatProgressModel",
          "state": {
            "_dom_classes": [],
            "_model_module": "@jupyter-widgets/controls",
            "_model_module_version": "1.5.0",
            "_model_name": "FloatProgressModel",
            "_view_count": null,
            "_view_module": "@jupyter-widgets/controls",
            "_view_module_version": "1.5.0",
            "_view_name": "ProgressView",
            "bar_style": "success",
            "description": "",
            "description_tooltip": null,
            "layout": "IPY_MODEL_d946fed5cb61458fa00723449e6705b7",
            "max": 2,
            "min": 0,
            "orientation": "horizontal",
            "style": "IPY_MODEL_9e2f6a1972024487b8d95315939db1a7",
            "value": 2
          }
        },
        "55a5a19217904aa480a9610ee37a22eb": {
          "model_module": "@jupyter-widgets/base",
          "model_module_version": "1.2.0",
          "model_name": "LayoutModel",
          "state": {
            "_model_module": "@jupyter-widgets/base",
            "_model_module_version": "1.2.0",
            "_model_name": "LayoutModel",
            "_view_count": null,
            "_view_module": "@jupyter-widgets/base",
            "_view_module_version": "1.2.0",
            "_view_name": "LayoutView",
            "align_content": null,
            "align_items": null,
            "align_self": null,
            "border": null,
            "bottom": null,
            "display": null,
            "flex": null,
            "flex_flow": null,
            "grid_area": null,
            "grid_auto_columns": null,
            "grid_auto_flow": null,
            "grid_auto_rows": null,
            "grid_column": null,
            "grid_gap": null,
            "grid_row": null,
            "grid_template_areas": null,
            "grid_template_columns": null,
            "grid_template_rows": null,
            "height": null,
            "justify_content": null,
            "justify_items": null,
            "left": null,
            "margin": null,
            "max_height": null,
            "max_width": null,
            "min_height": null,
            "min_width": null,
            "object_fit": null,
            "object_position": null,
            "order": null,
            "overflow": null,
            "overflow_x": null,
            "overflow_y": null,
            "padding": null,
            "right": null,
            "top": null,
            "visibility": null,
            "width": null
          }
        },
        "57737e476c8f495b9ab185e008ee9dae": {
          "model_module": "@jupyter-widgets/controls",
          "model_module_version": "1.5.0",
          "model_name": "HTMLModel",
          "state": {
            "_dom_classes": [],
            "_model_module": "@jupyter-widgets/controls",
            "_model_module_version": "1.5.0",
            "_model_name": "HTMLModel",
            "_view_count": null,
            "_view_module": "@jupyter-widgets/controls",
            "_view_module_version": "1.5.0",
            "_view_name": "HTMLView",
            "description": "",
            "description_tooltip": null,
            "layout": "IPY_MODEL_f2c047752bb541e2a08108f295968e57",
            "placeholder": "​",
            "style": "IPY_MODEL_eca817ce7f1b464f9257f21af35f3c72",
            "value": " 878/878 [00:00&lt;00:00, 68.0kB/s]"
          }
        },
        "5acfd92706534467aa43d20a71c20911": {
          "model_module": "@jupyter-widgets/controls",
          "model_module_version": "1.5.0",
          "model_name": "ProgressStyleModel",
          "state": {
            "_model_module": "@jupyter-widgets/controls",
            "_model_module_version": "1.5.0",
            "_model_name": "ProgressStyleModel",
            "_view_count": null,
            "_view_module": "@jupyter-widgets/base",
            "_view_module_version": "1.2.0",
            "_view_name": "StyleView",
            "bar_color": null,
            "description_width": ""
          }
        },
        "6048aa96eb7b4748b257c4e36949abff": {
          "model_module": "@jupyter-widgets/controls",
          "model_module_version": "1.5.0",
          "model_name": "DescriptionStyleModel",
          "state": {
            "_model_module": "@jupyter-widgets/controls",
            "_model_module_version": "1.5.0",
            "_model_name": "DescriptionStyleModel",
            "_view_count": null,
            "_view_module": "@jupyter-widgets/base",
            "_view_module_version": "1.2.0",
            "_view_name": "StyleView",
            "description_width": ""
          }
        },
        "62ecb82f77374d138b937307f3da141c": {
          "model_module": "@jupyter-widgets/controls",
          "model_module_version": "1.5.0",
          "model_name": "DescriptionStyleModel",
          "state": {
            "_model_module": "@jupyter-widgets/controls",
            "_model_module_version": "1.5.0",
            "_model_name": "DescriptionStyleModel",
            "_view_count": null,
            "_view_module": "@jupyter-widgets/base",
            "_view_module_version": "1.2.0",
            "_view_name": "StyleView",
            "description_width": ""
          }
        },
        "6473500752dd4945aca3f1ff573105d1": {
          "model_module": "@jupyter-widgets/controls",
          "model_module_version": "1.5.0",
          "model_name": "HTMLModel",
          "state": {
            "_dom_classes": [],
            "_model_module": "@jupyter-widgets/controls",
            "_model_module_version": "1.5.0",
            "_model_name": "HTMLModel",
            "_view_count": null,
            "_view_module": "@jupyter-widgets/controls",
            "_view_module_version": "1.5.0",
            "_view_name": "HTMLView",
            "description": "",
            "description_tooltip": null,
            "layout": "IPY_MODEL_8accfef006a846b9bad482626ceb74ff",
            "placeholder": "​",
            "style": "IPY_MODEL_936cc09b350c4c2d9dccbcce69c7e1f4",
            "value": "special_tokens_map.json: 100%"
          }
        },
        "679bfaa26de14cf2b0aa27f47bf1fa7d": {
          "model_module": "@jupyter-widgets/controls",
          "model_module_version": "1.5.0",
          "model_name": "HBoxModel",
          "state": {
            "_dom_classes": [],
            "_model_module": "@jupyter-widgets/controls",
            "_model_module_version": "1.5.0",
            "_model_name": "HBoxModel",
            "_view_count": null,
            "_view_module": "@jupyter-widgets/controls",
            "_view_module_version": "1.5.0",
            "_view_name": "HBoxView",
            "box_style": "",
            "children": [
              "IPY_MODEL_9cbedab40b8d4c81acf9e7a94a8d7d90",
              "IPY_MODEL_eeb5f323e20c48d8927cddb761b2ac27",
              "IPY_MODEL_eecd99b4a71b41eda8418c38c5bbcd5b"
            ],
            "layout": "IPY_MODEL_2945064d4c554728b68d0578b4d45d15"
          }
        },
        "6c4181a211c04b6183ab6008698d6802": {
          "model_module": "@jupyter-widgets/controls",
          "model_module_version": "1.5.0",
          "model_name": "HTMLModel",
          "state": {
            "_dom_classes": [],
            "_model_module": "@jupyter-widgets/controls",
            "_model_module_version": "1.5.0",
            "_model_name": "HTMLModel",
            "_view_count": null,
            "_view_module": "@jupyter-widgets/controls",
            "_view_module_version": "1.5.0",
            "_view_name": "HTMLView",
            "description": "",
            "description_tooltip": null,
            "layout": "IPY_MODEL_e8de499d146e496da14027a70db218e9",
            "placeholder": "​",
            "style": "IPY_MODEL_47427adf3cb447c3a115de604d082706",
            "value": " 4.97G/4.97G [07:42&lt;00:00, 12.8MB/s]"
          }
        },
        "738446add78d4946a5877fa9b00b92c5": {
          "model_module": "@jupyter-widgets/controls",
          "model_module_version": "1.5.0",
          "model_name": "HBoxModel",
          "state": {
            "_dom_classes": [],
            "_model_module": "@jupyter-widgets/controls",
            "_model_module_version": "1.5.0",
            "_model_name": "HBoxModel",
            "_view_count": null,
            "_view_module": "@jupyter-widgets/controls",
            "_view_module_version": "1.5.0",
            "_view_name": "HBoxView",
            "box_style": "",
            "children": [
              "IPY_MODEL_cdb5a86316624e27aee87279dbecb2ac",
              "IPY_MODEL_13857a463e704bdda2bbcb2a3a7ee07f",
              "IPY_MODEL_6c4181a211c04b6183ab6008698d6802"
            ],
            "layout": "IPY_MODEL_a1bf2431b43a4765b63746ac74903af1"
          }
        },
        "75249d98d7434df080e373558012307b": {
          "model_module": "@jupyter-widgets/base",
          "model_module_version": "1.2.0",
          "model_name": "LayoutModel",
          "state": {
            "_model_module": "@jupyter-widgets/base",
            "_model_module_version": "1.2.0",
            "_model_name": "LayoutModel",
            "_view_count": null,
            "_view_module": "@jupyter-widgets/base",
            "_view_module_version": "1.2.0",
            "_view_name": "LayoutView",
            "align_content": null,
            "align_items": null,
            "align_self": null,
            "border": null,
            "bottom": null,
            "display": null,
            "flex": null,
            "flex_flow": null,
            "grid_area": null,
            "grid_auto_columns": null,
            "grid_auto_flow": null,
            "grid_auto_rows": null,
            "grid_column": null,
            "grid_gap": null,
            "grid_row": null,
            "grid_template_areas": null,
            "grid_template_columns": null,
            "grid_template_rows": null,
            "height": null,
            "justify_content": null,
            "justify_items": null,
            "left": null,
            "margin": null,
            "max_height": null,
            "max_width": null,
            "min_height": null,
            "min_width": null,
            "object_fit": null,
            "object_position": null,
            "order": null,
            "overflow": null,
            "overflow_x": null,
            "overflow_y": null,
            "padding": null,
            "right": null,
            "top": null,
            "visibility": null,
            "width": null
          }
        },
        "762ca7863411441f9528aba9ebcb55de": {
          "model_module": "@jupyter-widgets/controls",
          "model_module_version": "1.5.0",
          "model_name": "HTMLModel",
          "state": {
            "_dom_classes": [],
            "_model_module": "@jupyter-widgets/controls",
            "_model_module_version": "1.5.0",
            "_model_name": "HTMLModel",
            "_view_count": null,
            "_view_module": "@jupyter-widgets/controls",
            "_view_module_version": "1.5.0",
            "_view_name": "HTMLView",
            "description": "",
            "description_tooltip": null,
            "layout": "IPY_MODEL_fcc7b1f89481405996357b173dfa51f4",
            "placeholder": "​",
            "style": "IPY_MODEL_504b48ab7c1143d68709e80f7dbfed73",
            "value": "config.json: 100%"
          }
        },
        "764774df10094e6d9718e7145294a02c": {
          "model_module": "@jupyter-widgets/controls",
          "model_module_version": "1.5.0",
          "model_name": "HTMLModel",
          "state": {
            "_dom_classes": [],
            "_model_module": "@jupyter-widgets/controls",
            "_model_module_version": "1.5.0",
            "_model_name": "HTMLModel",
            "_view_count": null,
            "_view_module": "@jupyter-widgets/controls",
            "_view_module_version": "1.5.0",
            "_view_name": "HTMLView",
            "description": "",
            "description_tooltip": null,
            "layout": "IPY_MODEL_2a2f82e7c4a14f3a87299bb9995a7691",
            "placeholder": "​",
            "style": "IPY_MODEL_b372ac071e01430c926d3e2c2701b8b8",
            "value": "Fetching 2 files: 100%"
          }
        },
        "89c0b697cc50420fb712c2ba2bc00b8d": {
          "model_module": "@jupyter-widgets/controls",
          "model_module_version": "1.5.0",
          "model_name": "HBoxModel",
          "state": {
            "_dom_classes": [],
            "_model_module": "@jupyter-widgets/controls",
            "_model_module_version": "1.5.0",
            "_model_name": "HBoxModel",
            "_view_count": null,
            "_view_module": "@jupyter-widgets/controls",
            "_view_module_version": "1.5.0",
            "_view_name": "HBoxView",
            "box_style": "",
            "children": [
              "IPY_MODEL_c1c175f95d4541e1aa049f1ea8ab46b6",
              "IPY_MODEL_50d6303ae9204951a70e0c8a16fdc0a1",
              "IPY_MODEL_43f07a1b8b714b75a6ff85ad33890e1a"
            ],
            "layout": "IPY_MODEL_3358efb1735c4bfcb9e5b81787027bca"
          }
        },
        "8accfef006a846b9bad482626ceb74ff": {
          "model_module": "@jupyter-widgets/base",
          "model_module_version": "1.2.0",
          "model_name": "LayoutModel",
          "state": {
            "_model_module": "@jupyter-widgets/base",
            "_model_module_version": "1.2.0",
            "_model_name": "LayoutModel",
            "_view_count": null,
            "_view_module": "@jupyter-widgets/base",
            "_view_module_version": "1.2.0",
            "_view_name": "LayoutView",
            "align_content": null,
            "align_items": null,
            "align_self": null,
            "border": null,
            "bottom": null,
            "display": null,
            "flex": null,
            "flex_flow": null,
            "grid_area": null,
            "grid_auto_columns": null,
            "grid_auto_flow": null,
            "grid_auto_rows": null,
            "grid_column": null,
            "grid_gap": null,
            "grid_row": null,
            "grid_template_areas": null,
            "grid_template_columns": null,
            "grid_template_rows": null,
            "height": null,
            "justify_content": null,
            "justify_items": null,
            "left": null,
            "margin": null,
            "max_height": null,
            "max_width": null,
            "min_height": null,
            "min_width": null,
            "object_fit": null,
            "object_position": null,
            "order": null,
            "overflow": null,
            "overflow_x": null,
            "overflow_y": null,
            "padding": null,
            "right": null,
            "top": null,
            "visibility": null,
            "width": null
          }
        },
        "8b40324d848e474bbafefd49921b4aab": {
          "model_module": "@jupyter-widgets/controls",
          "model_module_version": "1.5.0",
          "model_name": "DescriptionStyleModel",
          "state": {
            "_model_module": "@jupyter-widgets/controls",
            "_model_module_version": "1.5.0",
            "_model_name": "DescriptionStyleModel",
            "_view_count": null,
            "_view_module": "@jupyter-widgets/base",
            "_view_module_version": "1.2.0",
            "_view_name": "StyleView",
            "description_width": ""
          }
        },
        "8db8e3c50ec2405c8f6053f34eed529b": {
          "model_module": "@jupyter-widgets/base",
          "model_module_version": "1.2.0",
          "model_name": "LayoutModel",
          "state": {
            "_model_module": "@jupyter-widgets/base",
            "_model_module_version": "1.2.0",
            "_model_name": "LayoutModel",
            "_view_count": null,
            "_view_module": "@jupyter-widgets/base",
            "_view_module_version": "1.2.0",
            "_view_name": "LayoutView",
            "align_content": null,
            "align_items": null,
            "align_self": null,
            "border": null,
            "bottom": null,
            "display": null,
            "flex": null,
            "flex_flow": null,
            "grid_area": null,
            "grid_auto_columns": null,
            "grid_auto_flow": null,
            "grid_auto_rows": null,
            "grid_column": null,
            "grid_gap": null,
            "grid_row": null,
            "grid_template_areas": null,
            "grid_template_columns": null,
            "grid_template_rows": null,
            "height": null,
            "justify_content": null,
            "justify_items": null,
            "left": null,
            "margin": null,
            "max_height": null,
            "max_width": null,
            "min_height": null,
            "min_width": null,
            "object_fit": null,
            "object_position": null,
            "order": null,
            "overflow": null,
            "overflow_x": null,
            "overflow_y": null,
            "padding": null,
            "right": null,
            "top": null,
            "visibility": null,
            "width": null
          }
        },
        "931825a84bf24c74bd7ddf694292c20c": {
          "model_module": "@jupyter-widgets/base",
          "model_module_version": "1.2.0",
          "model_name": "LayoutModel",
          "state": {
            "_model_module": "@jupyter-widgets/base",
            "_model_module_version": "1.2.0",
            "_model_name": "LayoutModel",
            "_view_count": null,
            "_view_module": "@jupyter-widgets/base",
            "_view_module_version": "1.2.0",
            "_view_name": "LayoutView",
            "align_content": null,
            "align_items": null,
            "align_self": null,
            "border": null,
            "bottom": null,
            "display": null,
            "flex": null,
            "flex_flow": null,
            "grid_area": null,
            "grid_auto_columns": null,
            "grid_auto_flow": null,
            "grid_auto_rows": null,
            "grid_column": null,
            "grid_gap": null,
            "grid_row": null,
            "grid_template_areas": null,
            "grid_template_columns": null,
            "grid_template_rows": null,
            "height": null,
            "justify_content": null,
            "justify_items": null,
            "left": null,
            "margin": null,
            "max_height": null,
            "max_width": null,
            "min_height": null,
            "min_width": null,
            "object_fit": null,
            "object_position": null,
            "order": null,
            "overflow": null,
            "overflow_x": null,
            "overflow_y": null,
            "padding": null,
            "right": null,
            "top": null,
            "visibility": null,
            "width": null
          }
        },
        "936cc09b350c4c2d9dccbcce69c7e1f4": {
          "model_module": "@jupyter-widgets/controls",
          "model_module_version": "1.5.0",
          "model_name": "DescriptionStyleModel",
          "state": {
            "_model_module": "@jupyter-widgets/controls",
            "_model_module_version": "1.5.0",
            "_model_name": "DescriptionStyleModel",
            "_view_count": null,
            "_view_module": "@jupyter-widgets/base",
            "_view_module_version": "1.2.0",
            "_view_name": "StyleView",
            "description_width": ""
          }
        },
        "9743b98e63c3449cbbc8de4570e06636": {
          "model_module": "@jupyter-widgets/base",
          "model_module_version": "1.2.0",
          "model_name": "LayoutModel",
          "state": {
            "_model_module": "@jupyter-widgets/base",
            "_model_module_version": "1.2.0",
            "_model_name": "LayoutModel",
            "_view_count": null,
            "_view_module": "@jupyter-widgets/base",
            "_view_module_version": "1.2.0",
            "_view_name": "LayoutView",
            "align_content": null,
            "align_items": null,
            "align_self": null,
            "border": null,
            "bottom": null,
            "display": null,
            "flex": null,
            "flex_flow": null,
            "grid_area": null,
            "grid_auto_columns": null,
            "grid_auto_flow": null,
            "grid_auto_rows": null,
            "grid_column": null,
            "grid_gap": null,
            "grid_row": null,
            "grid_template_areas": null,
            "grid_template_columns": null,
            "grid_template_rows": null,
            "height": null,
            "justify_content": null,
            "justify_items": null,
            "left": null,
            "margin": null,
            "max_height": null,
            "max_width": null,
            "min_height": null,
            "min_width": null,
            "object_fit": null,
            "object_position": null,
            "order": null,
            "overflow": null,
            "overflow_x": null,
            "overflow_y": null,
            "padding": null,
            "right": null,
            "top": null,
            "visibility": null,
            "width": null
          }
        },
        "9b2c3cc5cc074f95a0000e1148b5b1bd": {
          "model_module": "@jupyter-widgets/controls",
          "model_module_version": "1.5.0",
          "model_name": "DescriptionStyleModel",
          "state": {
            "_model_module": "@jupyter-widgets/controls",
            "_model_module_version": "1.5.0",
            "_model_name": "DescriptionStyleModel",
            "_view_count": null,
            "_view_module": "@jupyter-widgets/base",
            "_view_module_version": "1.2.0",
            "_view_name": "StyleView",
            "description_width": ""
          }
        },
        "9c8e87637bc544ce8c74d40bc9979eb1": {
          "model_module": "@jupyter-widgets/base",
          "model_module_version": "1.2.0",
          "model_name": "LayoutModel",
          "state": {
            "_model_module": "@jupyter-widgets/base",
            "_model_module_version": "1.2.0",
            "_model_name": "LayoutModel",
            "_view_count": null,
            "_view_module": "@jupyter-widgets/base",
            "_view_module_version": "1.2.0",
            "_view_name": "LayoutView",
            "align_content": null,
            "align_items": null,
            "align_self": null,
            "border": null,
            "bottom": null,
            "display": null,
            "flex": null,
            "flex_flow": null,
            "grid_area": null,
            "grid_auto_columns": null,
            "grid_auto_flow": null,
            "grid_auto_rows": null,
            "grid_column": null,
            "grid_gap": null,
            "grid_row": null,
            "grid_template_areas": null,
            "grid_template_columns": null,
            "grid_template_rows": null,
            "height": null,
            "justify_content": null,
            "justify_items": null,
            "left": null,
            "margin": null,
            "max_height": null,
            "max_width": null,
            "min_height": null,
            "min_width": null,
            "object_fit": null,
            "object_position": null,
            "order": null,
            "overflow": null,
            "overflow_x": null,
            "overflow_y": null,
            "padding": null,
            "right": null,
            "top": null,
            "visibility": null,
            "width": null
          }
        },
        "9cbedab40b8d4c81acf9e7a94a8d7d90": {
          "model_module": "@jupyter-widgets/controls",
          "model_module_version": "1.5.0",
          "model_name": "HTMLModel",
          "state": {
            "_dom_classes": [],
            "_model_module": "@jupyter-widgets/controls",
            "_model_module_version": "1.5.0",
            "_model_name": "HTMLModel",
            "_view_count": null,
            "_view_module": "@jupyter-widgets/controls",
            "_view_module_version": "1.5.0",
            "_view_name": "HTMLView",
            "description": "",
            "description_tooltip": null,
            "layout": "IPY_MODEL_ebcb525af1c047bfa01303aff8540edf",
            "placeholder": "​",
            "style": "IPY_MODEL_1ce68f55f2e849a9a73c965f9e89c023",
            "value": "tokenizer.json: 100%"
          }
        },
        "9e2f6a1972024487b8d95315939db1a7": {
          "model_module": "@jupyter-widgets/controls",
          "model_module_version": "1.5.0",
          "model_name": "ProgressStyleModel",
          "state": {
            "_model_module": "@jupyter-widgets/controls",
            "_model_module_version": "1.5.0",
            "_model_name": "ProgressStyleModel",
            "_view_count": null,
            "_view_module": "@jupyter-widgets/base",
            "_view_module_version": "1.2.0",
            "_view_name": "StyleView",
            "bar_color": null,
            "description_width": ""
          }
        },
        "a09e6afe8f9146318818710774cd5c11": {
          "model_module": "@jupyter-widgets/controls",
          "model_module_version": "1.5.0",
          "model_name": "FloatProgressModel",
          "state": {
            "_dom_classes": [],
            "_model_module": "@jupyter-widgets/controls",
            "_model_module_version": "1.5.0",
            "_model_name": "FloatProgressModel",
            "_view_count": null,
            "_view_module": "@jupyter-widgets/controls",
            "_view_module_version": "1.5.0",
            "_view_name": "ProgressView",
            "bar_style": "success",
            "description": "",
            "description_tooltip": null,
            "layout": "IPY_MODEL_27d39c5889bb4f34878d84f754245859",
            "max": 20919,
            "min": 0,
            "orientation": "horizontal",
            "style": "IPY_MODEL_14a719097f3e4195a20fdfef9a22cb4f",
            "value": 20919
          }
        },
        "a0cfadc8d9394260bf6291108d6626ea": {
          "model_module": "@jupyter-widgets/base",
          "model_module_version": "1.2.0",
          "model_name": "LayoutModel",
          "state": {
            "_model_module": "@jupyter-widgets/base",
            "_model_module_version": "1.2.0",
            "_model_name": "LayoutModel",
            "_view_count": null,
            "_view_module": "@jupyter-widgets/base",
            "_view_module_version": "1.2.0",
            "_view_name": "LayoutView",
            "align_content": null,
            "align_items": null,
            "align_self": null,
            "border": null,
            "bottom": null,
            "display": null,
            "flex": null,
            "flex_flow": null,
            "grid_area": null,
            "grid_auto_columns": null,
            "grid_auto_flow": null,
            "grid_auto_rows": null,
            "grid_column": null,
            "grid_gap": null,
            "grid_row": null,
            "grid_template_areas": null,
            "grid_template_columns": null,
            "grid_template_rows": null,
            "height": null,
            "justify_content": null,
            "justify_items": null,
            "left": null,
            "margin": null,
            "max_height": null,
            "max_width": null,
            "min_height": null,
            "min_width": null,
            "object_fit": null,
            "object_position": null,
            "order": null,
            "overflow": null,
            "overflow_x": null,
            "overflow_y": null,
            "padding": null,
            "right": null,
            "top": null,
            "visibility": null,
            "width": null
          }
        },
        "a16ccbc5687a4c80aa56b789207a847d": {
          "model_module": "@jupyter-widgets/controls",
          "model_module_version": "1.5.0",
          "model_name": "DescriptionStyleModel",
          "state": {
            "_model_module": "@jupyter-widgets/controls",
            "_model_module_version": "1.5.0",
            "_model_name": "DescriptionStyleModel",
            "_view_count": null,
            "_view_module": "@jupyter-widgets/base",
            "_view_module_version": "1.2.0",
            "_view_name": "StyleView",
            "description_width": ""
          }
        },
        "a1bf2431b43a4765b63746ac74903af1": {
          "model_module": "@jupyter-widgets/base",
          "model_module_version": "1.2.0",
          "model_name": "LayoutModel",
          "state": {
            "_model_module": "@jupyter-widgets/base",
            "_model_module_version": "1.2.0",
            "_model_name": "LayoutModel",
            "_view_count": null,
            "_view_module": "@jupyter-widgets/base",
            "_view_module_version": "1.2.0",
            "_view_name": "LayoutView",
            "align_content": null,
            "align_items": null,
            "align_self": null,
            "border": null,
            "bottom": null,
            "display": null,
            "flex": null,
            "flex_flow": null,
            "grid_area": null,
            "grid_auto_columns": null,
            "grid_auto_flow": null,
            "grid_auto_rows": null,
            "grid_column": null,
            "grid_gap": null,
            "grid_row": null,
            "grid_template_areas": null,
            "grid_template_columns": null,
            "grid_template_rows": null,
            "height": null,
            "justify_content": null,
            "justify_items": null,
            "left": null,
            "margin": null,
            "max_height": null,
            "max_width": null,
            "min_height": null,
            "min_width": null,
            "object_fit": null,
            "object_position": null,
            "order": null,
            "overflow": null,
            "overflow_x": null,
            "overflow_y": null,
            "padding": null,
            "right": null,
            "top": null,
            "visibility": null,
            "width": null
          }
        },
        "a3bf835d9cad4c4daa457b841232a152": {
          "model_module": "@jupyter-widgets/controls",
          "model_module_version": "1.5.0",
          "model_name": "DescriptionStyleModel",
          "state": {
            "_model_module": "@jupyter-widgets/controls",
            "_model_module_version": "1.5.0",
            "_model_name": "DescriptionStyleModel",
            "_view_count": null,
            "_view_module": "@jupyter-widgets/base",
            "_view_module_version": "1.2.0",
            "_view_name": "StyleView",
            "description_width": ""
          }
        },
        "a47c3f71c635479aba79404df87ab2e9": {
          "model_module": "@jupyter-widgets/base",
          "model_module_version": "1.2.0",
          "model_name": "LayoutModel",
          "state": {
            "_model_module": "@jupyter-widgets/base",
            "_model_module_version": "1.2.0",
            "_model_name": "LayoutModel",
            "_view_count": null,
            "_view_module": "@jupyter-widgets/base",
            "_view_module_version": "1.2.0",
            "_view_name": "LayoutView",
            "align_content": null,
            "align_items": null,
            "align_self": null,
            "border": null,
            "bottom": null,
            "display": null,
            "flex": null,
            "flex_flow": null,
            "grid_area": null,
            "grid_auto_columns": null,
            "grid_auto_flow": null,
            "grid_auto_rows": null,
            "grid_column": null,
            "grid_gap": null,
            "grid_row": null,
            "grid_template_areas": null,
            "grid_template_columns": null,
            "grid_template_rows": null,
            "height": null,
            "justify_content": null,
            "justify_items": null,
            "left": null,
            "margin": null,
            "max_height": null,
            "max_width": null,
            "min_height": null,
            "min_width": null,
            "object_fit": null,
            "object_position": null,
            "order": null,
            "overflow": null,
            "overflow_x": null,
            "overflow_y": null,
            "padding": null,
            "right": null,
            "top": null,
            "visibility": null,
            "width": null
          }
        },
        "a9f5b38cec004797ade10d31e2586bd0": {
          "model_module": "@jupyter-widgets/base",
          "model_module_version": "1.2.0",
          "model_name": "LayoutModel",
          "state": {
            "_model_module": "@jupyter-widgets/base",
            "_model_module_version": "1.2.0",
            "_model_name": "LayoutModel",
            "_view_count": null,
            "_view_module": "@jupyter-widgets/base",
            "_view_module_version": "1.2.0",
            "_view_name": "LayoutView",
            "align_content": null,
            "align_items": null,
            "align_self": null,
            "border": null,
            "bottom": null,
            "display": null,
            "flex": null,
            "flex_flow": null,
            "grid_area": null,
            "grid_auto_columns": null,
            "grid_auto_flow": null,
            "grid_auto_rows": null,
            "grid_column": null,
            "grid_gap": null,
            "grid_row": null,
            "grid_template_areas": null,
            "grid_template_columns": null,
            "grid_template_rows": null,
            "height": null,
            "justify_content": null,
            "justify_items": null,
            "left": null,
            "margin": null,
            "max_height": null,
            "max_width": null,
            "min_height": null,
            "min_width": null,
            "object_fit": null,
            "object_position": null,
            "order": null,
            "overflow": null,
            "overflow_x": null,
            "overflow_y": null,
            "padding": null,
            "right": null,
            "top": null,
            "visibility": null,
            "width": null
          }
        },
        "b20bbd3f1cbd4e4c8a4622487ae39c9c": {
          "model_module": "@jupyter-widgets/controls",
          "model_module_version": "1.5.0",
          "model_name": "ProgressStyleModel",
          "state": {
            "_model_module": "@jupyter-widgets/controls",
            "_model_module_version": "1.5.0",
            "_model_name": "ProgressStyleModel",
            "_view_count": null,
            "_view_module": "@jupyter-widgets/base",
            "_view_module_version": "1.2.0",
            "_view_name": "StyleView",
            "bar_color": null,
            "description_width": ""
          }
        },
        "b2dde49487e7474797e3f4acd0020407": {
          "model_module": "@jupyter-widgets/controls",
          "model_module_version": "1.5.0",
          "model_name": "DescriptionStyleModel",
          "state": {
            "_model_module": "@jupyter-widgets/controls",
            "_model_module_version": "1.5.0",
            "_model_name": "DescriptionStyleModel",
            "_view_count": null,
            "_view_module": "@jupyter-widgets/base",
            "_view_module_version": "1.2.0",
            "_view_name": "StyleView",
            "description_width": ""
          }
        },
        "b358e236ba8c49b589a2050874c61902": {
          "model_module": "@jupyter-widgets/controls",
          "model_module_version": "1.5.0",
          "model_name": "HBoxModel",
          "state": {
            "_dom_classes": [],
            "_model_module": "@jupyter-widgets/controls",
            "_model_module_version": "1.5.0",
            "_model_name": "HBoxModel",
            "_view_count": null,
            "_view_module": "@jupyter-widgets/controls",
            "_view_module_version": "1.5.0",
            "_view_name": "HBoxView",
            "box_style": "",
            "children": [
              "IPY_MODEL_436cb5e51fa94a4fa3ca0a4905877b12",
              "IPY_MODEL_a09e6afe8f9146318818710774cd5c11",
              "IPY_MODEL_0437c7f4a88e456ca407eaa68a692a8c"
            ],
            "layout": "IPY_MODEL_8db8e3c50ec2405c8f6053f34eed529b"
          }
        },
        "b372ac071e01430c926d3e2c2701b8b8": {
          "model_module": "@jupyter-widgets/controls",
          "model_module_version": "1.5.0",
          "model_name": "DescriptionStyleModel",
          "state": {
            "_model_module": "@jupyter-widgets/controls",
            "_model_module_version": "1.5.0",
            "_model_name": "DescriptionStyleModel",
            "_view_count": null,
            "_view_module": "@jupyter-widgets/base",
            "_view_module_version": "1.2.0",
            "_view_name": "StyleView",
            "description_width": ""
          }
        },
        "b64bc16e5fe74e7d8ac20ae2924aaffd": {
          "model_module": "@jupyter-widgets/base",
          "model_module_version": "1.2.0",
          "model_name": "LayoutModel",
          "state": {
            "_model_module": "@jupyter-widgets/base",
            "_model_module_version": "1.2.0",
            "_model_name": "LayoutModel",
            "_view_count": null,
            "_view_module": "@jupyter-widgets/base",
            "_view_module_version": "1.2.0",
            "_view_name": "LayoutView",
            "align_content": null,
            "align_items": null,
            "align_self": null,
            "border": null,
            "bottom": null,
            "display": null,
            "flex": null,
            "flex_flow": null,
            "grid_area": null,
            "grid_auto_columns": null,
            "grid_auto_flow": null,
            "grid_auto_rows": null,
            "grid_column": null,
            "grid_gap": null,
            "grid_row": null,
            "grid_template_areas": null,
            "grid_template_columns": null,
            "grid_template_rows": null,
            "height": null,
            "justify_content": null,
            "justify_items": null,
            "left": null,
            "margin": null,
            "max_height": null,
            "max_width": null,
            "min_height": null,
            "min_width": null,
            "object_fit": null,
            "object_position": null,
            "order": null,
            "overflow": null,
            "overflow_x": null,
            "overflow_y": null,
            "padding": null,
            "right": null,
            "top": null,
            "visibility": null,
            "width": null
          }
        },
        "ba89e69a3c7d465d89447d8478df1337": {
          "model_module": "@jupyter-widgets/controls",
          "model_module_version": "1.5.0",
          "model_name": "FloatProgressModel",
          "state": {
            "_dom_classes": [],
            "_model_module": "@jupyter-widgets/controls",
            "_model_module_version": "1.5.0",
            "_model_name": "FloatProgressModel",
            "_view_count": null,
            "_view_module": "@jupyter-widgets/controls",
            "_view_module_version": "1.5.0",
            "_view_name": "ProgressView",
            "bar_style": "success",
            "description": "",
            "description_tooltip": null,
            "layout": "IPY_MODEL_48f9b299a89a46f0a6d4d58ec927697e",
            "max": 1459729952,
            "min": 0,
            "orientation": "horizontal",
            "style": "IPY_MODEL_dd7e1700539d4001829583cc984c9a37",
            "value": 1459729952
          }
        },
        "bd4a545b355c4aeba9dae755dc730b76": {
          "model_module": "@jupyter-widgets/base",
          "model_module_version": "1.2.0",
          "model_name": "LayoutModel",
          "state": {
            "_model_module": "@jupyter-widgets/base",
            "_model_module_version": "1.2.0",
            "_model_name": "LayoutModel",
            "_view_count": null,
            "_view_module": "@jupyter-widgets/base",
            "_view_module_version": "1.2.0",
            "_view_name": "LayoutView",
            "align_content": null,
            "align_items": null,
            "align_self": null,
            "border": null,
            "bottom": null,
            "display": null,
            "flex": null,
            "flex_flow": null,
            "grid_area": null,
            "grid_auto_columns": null,
            "grid_auto_flow": null,
            "grid_auto_rows": null,
            "grid_column": null,
            "grid_gap": null,
            "grid_row": null,
            "grid_template_areas": null,
            "grid_template_columns": null,
            "grid_template_rows": null,
            "height": null,
            "justify_content": null,
            "justify_items": null,
            "left": null,
            "margin": null,
            "max_height": null,
            "max_width": null,
            "min_height": null,
            "min_width": null,
            "object_fit": null,
            "object_position": null,
            "order": null,
            "overflow": null,
            "overflow_x": null,
            "overflow_y": null,
            "padding": null,
            "right": null,
            "top": null,
            "visibility": null,
            "width": null
          }
        },
        "bf270e01d349468ab76009de684ca4b2": {
          "model_module": "@jupyter-widgets/controls",
          "model_module_version": "1.5.0",
          "model_name": "HBoxModel",
          "state": {
            "_dom_classes": [],
            "_model_module": "@jupyter-widgets/controls",
            "_model_module_version": "1.5.0",
            "_model_name": "HBoxModel",
            "_view_count": null,
            "_view_module": "@jupyter-widgets/controls",
            "_view_module_version": "1.5.0",
            "_view_name": "HBoxView",
            "box_style": "",
            "children": [
              "IPY_MODEL_762ca7863411441f9528aba9ebcb55de",
              "IPY_MODEL_c6a2b045751b49548b076efbf3013174",
              "IPY_MODEL_57737e476c8f495b9ab185e008ee9dae"
            ],
            "layout": "IPY_MODEL_931825a84bf24c74bd7ddf694292c20c"
          }
        },
        "c1c175f95d4541e1aa049f1ea8ab46b6": {
          "model_module": "@jupyter-widgets/controls",
          "model_module_version": "1.5.0",
          "model_name": "HTMLModel",
          "state": {
            "_dom_classes": [],
            "_model_module": "@jupyter-widgets/controls",
            "_model_module_version": "1.5.0",
            "_model_name": "HTMLModel",
            "_view_count": null,
            "_view_module": "@jupyter-widgets/controls",
            "_view_module_version": "1.5.0",
            "_view_name": "HTMLView",
            "description": "",
            "description_tooltip": null,
            "layout": "IPY_MODEL_1b63500525a74c138bd4fb152053a88d",
            "placeholder": "​",
            "style": "IPY_MODEL_0cd9e13c213245af98dec4f5eb008f3a",
            "value": "Loading checkpoint shards: 100%"
          }
        },
        "c2c8f166202243358b7f7ce01aab4be3": {
          "model_module": "@jupyter-widgets/controls",
          "model_module_version": "1.5.0",
          "model_name": "ProgressStyleModel",
          "state": {
            "_model_module": "@jupyter-widgets/controls",
            "_model_module_version": "1.5.0",
            "_model_name": "ProgressStyleModel",
            "_view_count": null,
            "_view_module": "@jupyter-widgets/base",
            "_view_module_version": "1.2.0",
            "_view_name": "StyleView",
            "bar_color": null,
            "description_width": ""
          }
        },
        "c4fbc401280442239c9e2cbd0f482a08": {
          "model_module": "@jupyter-widgets/base",
          "model_module_version": "1.2.0",
          "model_name": "LayoutModel",
          "state": {
            "_model_module": "@jupyter-widgets/base",
            "_model_module_version": "1.2.0",
            "_model_name": "LayoutModel",
            "_view_count": null,
            "_view_module": "@jupyter-widgets/base",
            "_view_module_version": "1.2.0",
            "_view_name": "LayoutView",
            "align_content": null,
            "align_items": null,
            "align_self": null,
            "border": null,
            "bottom": null,
            "display": null,
            "flex": null,
            "flex_flow": null,
            "grid_area": null,
            "grid_auto_columns": null,
            "grid_auto_flow": null,
            "grid_auto_rows": null,
            "grid_column": null,
            "grid_gap": null,
            "grid_row": null,
            "grid_template_areas": null,
            "grid_template_columns": null,
            "grid_template_rows": null,
            "height": null,
            "justify_content": null,
            "justify_items": null,
            "left": null,
            "margin": null,
            "max_height": null,
            "max_width": null,
            "min_height": null,
            "min_width": null,
            "object_fit": null,
            "object_position": null,
            "order": null,
            "overflow": null,
            "overflow_x": null,
            "overflow_y": null,
            "padding": null,
            "right": null,
            "top": null,
            "visibility": null,
            "width": null
          }
        },
        "c503e6aa59c14a7c97b84e9e463e57af": {
          "model_module": "@jupyter-widgets/controls",
          "model_module_version": "1.5.0",
          "model_name": "DescriptionStyleModel",
          "state": {
            "_model_module": "@jupyter-widgets/controls",
            "_model_module_version": "1.5.0",
            "_model_name": "DescriptionStyleModel",
            "_view_count": null,
            "_view_module": "@jupyter-widgets/base",
            "_view_module_version": "1.2.0",
            "_view_name": "StyleView",
            "description_width": ""
          }
        },
        "c6a2b045751b49548b076efbf3013174": {
          "model_module": "@jupyter-widgets/controls",
          "model_module_version": "1.5.0",
          "model_name": "FloatProgressModel",
          "state": {
            "_dom_classes": [],
            "_model_module": "@jupyter-widgets/controls",
            "_model_module_version": "1.5.0",
            "_model_name": "FloatProgressModel",
            "_view_count": null,
            "_view_module": "@jupyter-widgets/controls",
            "_view_module_version": "1.5.0",
            "_view_name": "ProgressView",
            "bar_style": "success",
            "description": "",
            "description_tooltip": null,
            "layout": "IPY_MODEL_415254cb0dcd4210a808c3b101813883",
            "max": 878,
            "min": 0,
            "orientation": "horizontal",
            "style": "IPY_MODEL_b20bbd3f1cbd4e4c8a4622487ae39c9c",
            "value": 878
          }
        },
        "cdb5a86316624e27aee87279dbecb2ac": {
          "model_module": "@jupyter-widgets/controls",
          "model_module_version": "1.5.0",
          "model_name": "HTMLModel",
          "state": {
            "_dom_classes": [],
            "_model_module": "@jupyter-widgets/controls",
            "_model_module_version": "1.5.0",
            "_model_name": "HTMLModel",
            "_view_count": null,
            "_view_module": "@jupyter-widgets/controls",
            "_view_module_version": "1.5.0",
            "_view_name": "HTMLView",
            "description": "",
            "description_tooltip": null,
            "layout": "IPY_MODEL_0b185d0616ab4341a1e09966812a6b4e",
            "placeholder": "​",
            "style": "IPY_MODEL_155d98071c024d73be47195cefc417a0",
            "value": "model-00001-of-00002.safetensors: 100%"
          }
        },
        "d0862abff81046b69eaa676dfca8537e": {
          "model_module": "@jupyter-widgets/controls",
          "model_module_version": "1.5.0",
          "model_name": "HTMLModel",
          "state": {
            "_dom_classes": [],
            "_model_module": "@jupyter-widgets/controls",
            "_model_module_version": "1.5.0",
            "_model_name": "HTMLModel",
            "_view_count": null,
            "_view_module": "@jupyter-widgets/controls",
            "_view_module_version": "1.5.0",
            "_view_name": "HTMLView",
            "description": "",
            "description_tooltip": null,
            "layout": "IPY_MODEL_3ff4191ebd5f4b508ca03718f55dd364",
            "placeholder": "​",
            "style": "IPY_MODEL_9b2c3cc5cc074f95a0000e1148b5b1bd",
            "value": "generation_config.json: 100%"
          }
        },
        "d53e3b04e6c049bc80b920a92a4d1c3a": {
          "model_module": "@jupyter-widgets/controls",
          "model_module_version": "1.5.0",
          "model_name": "FloatProgressModel",
          "state": {
            "_dom_classes": [],
            "_model_module": "@jupyter-widgets/controls",
            "_model_module_version": "1.5.0",
            "_model_name": "FloatProgressModel",
            "_view_count": null,
            "_view_module": "@jupyter-widgets/controls",
            "_view_module_version": "1.5.0",
            "_view_name": "ProgressView",
            "bar_style": "success",
            "description": "",
            "description_tooltip": null,
            "layout": "IPY_MODEL_b64bc16e5fe74e7d8ac20ae2924aaffd",
            "max": 54528,
            "min": 0,
            "orientation": "horizontal",
            "style": "IPY_MODEL_1fffd50fced740c496e2461b5f9bb6f4",
            "value": 54528
          }
        },
        "d5fd3018fcaf409aaad397b005849d34": {
          "model_module": "@jupyter-widgets/base",
          "model_module_version": "1.2.0",
          "model_name": "LayoutModel",
          "state": {
            "_model_module": "@jupyter-widgets/base",
            "_model_module_version": "1.2.0",
            "_model_name": "LayoutModel",
            "_view_count": null,
            "_view_module": "@jupyter-widgets/base",
            "_view_module_version": "1.2.0",
            "_view_name": "LayoutView",
            "align_content": null,
            "align_items": null,
            "align_self": null,
            "border": null,
            "bottom": null,
            "display": null,
            "flex": null,
            "flex_flow": null,
            "grid_area": null,
            "grid_auto_columns": null,
            "grid_auto_flow": null,
            "grid_auto_rows": null,
            "grid_column": null,
            "grid_gap": null,
            "grid_row": null,
            "grid_template_areas": null,
            "grid_template_columns": null,
            "grid_template_rows": null,
            "height": null,
            "justify_content": null,
            "justify_items": null,
            "left": null,
            "margin": null,
            "max_height": null,
            "max_width": null,
            "min_height": null,
            "min_width": null,
            "object_fit": null,
            "object_position": null,
            "order": null,
            "overflow": null,
            "overflow_x": null,
            "overflow_y": null,
            "padding": null,
            "right": null,
            "top": null,
            "visibility": null,
            "width": null
          }
        },
        "d8972886fd624eaea5b28e8a6c0dda41": {
          "model_module": "@jupyter-widgets/controls",
          "model_module_version": "1.5.0",
          "model_name": "ProgressStyleModel",
          "state": {
            "_model_module": "@jupyter-widgets/controls",
            "_model_module_version": "1.5.0",
            "_model_name": "ProgressStyleModel",
            "_view_count": null,
            "_view_module": "@jupyter-widgets/base",
            "_view_module_version": "1.2.0",
            "_view_name": "StyleView",
            "bar_color": null,
            "description_width": ""
          }
        },
        "d946fed5cb61458fa00723449e6705b7": {
          "model_module": "@jupyter-widgets/base",
          "model_module_version": "1.2.0",
          "model_name": "LayoutModel",
          "state": {
            "_model_module": "@jupyter-widgets/base",
            "_model_module_version": "1.2.0",
            "_model_name": "LayoutModel",
            "_view_count": null,
            "_view_module": "@jupyter-widgets/base",
            "_view_module_version": "1.2.0",
            "_view_name": "LayoutView",
            "align_content": null,
            "align_items": null,
            "align_self": null,
            "border": null,
            "bottom": null,
            "display": null,
            "flex": null,
            "flex_flow": null,
            "grid_area": null,
            "grid_auto_columns": null,
            "grid_auto_flow": null,
            "grid_auto_rows": null,
            "grid_column": null,
            "grid_gap": null,
            "grid_row": null,
            "grid_template_areas": null,
            "grid_template_columns": null,
            "grid_template_rows": null,
            "height": null,
            "justify_content": null,
            "justify_items": null,
            "left": null,
            "margin": null,
            "max_height": null,
            "max_width": null,
            "min_height": null,
            "min_width": null,
            "object_fit": null,
            "object_position": null,
            "order": null,
            "overflow": null,
            "overflow_x": null,
            "overflow_y": null,
            "padding": null,
            "right": null,
            "top": null,
            "visibility": null,
            "width": null
          }
        },
        "dd7e1700539d4001829583cc984c9a37": {
          "model_module": "@jupyter-widgets/controls",
          "model_module_version": "1.5.0",
          "model_name": "ProgressStyleModel",
          "state": {
            "_model_module": "@jupyter-widgets/controls",
            "_model_module_version": "1.5.0",
            "_model_name": "ProgressStyleModel",
            "_view_count": null,
            "_view_module": "@jupyter-widgets/base",
            "_view_module_version": "1.2.0",
            "_view_name": "StyleView",
            "bar_color": null,
            "description_width": ""
          }
        },
        "de528303f15645d299cc6e9361af86d4": {
          "model_module": "@jupyter-widgets/controls",
          "model_module_version": "1.5.0",
          "model_name": "ProgressStyleModel",
          "state": {
            "_model_module": "@jupyter-widgets/controls",
            "_model_module_version": "1.5.0",
            "_model_name": "ProgressStyleModel",
            "_view_count": null,
            "_view_module": "@jupyter-widgets/base",
            "_view_module_version": "1.2.0",
            "_view_name": "StyleView",
            "bar_color": null,
            "description_width": ""
          }
        },
        "e5ecca5bb40944a7a94b327961423fa6": {
          "model_module": "@jupyter-widgets/controls",
          "model_module_version": "1.5.0",
          "model_name": "HBoxModel",
          "state": {
            "_dom_classes": [],
            "_model_module": "@jupyter-widgets/controls",
            "_model_module_version": "1.5.0",
            "_model_name": "HBoxModel",
            "_view_count": null,
            "_view_module": "@jupyter-widgets/controls",
            "_view_module_version": "1.5.0",
            "_view_name": "HBoxView",
            "box_style": "",
            "children": [
              "IPY_MODEL_e9cedcbe8fe049759ff1263e9700bc36",
              "IPY_MODEL_d53e3b04e6c049bc80b920a92a4d1c3a",
              "IPY_MODEL_12c2f2ba870d48ec837b2121bbb95437"
            ],
            "layout": "IPY_MODEL_55a5a19217904aa480a9610ee37a22eb"
          }
        },
        "e8de499d146e496da14027a70db218e9": {
          "model_module": "@jupyter-widgets/base",
          "model_module_version": "1.2.0",
          "model_name": "LayoutModel",
          "state": {
            "_model_module": "@jupyter-widgets/base",
            "_model_module_version": "1.2.0",
            "_model_name": "LayoutModel",
            "_view_count": null,
            "_view_module": "@jupyter-widgets/base",
            "_view_module_version": "1.2.0",
            "_view_name": "LayoutView",
            "align_content": null,
            "align_items": null,
            "align_self": null,
            "border": null,
            "bottom": null,
            "display": null,
            "flex": null,
            "flex_flow": null,
            "grid_area": null,
            "grid_auto_columns": null,
            "grid_auto_flow": null,
            "grid_auto_rows": null,
            "grid_column": null,
            "grid_gap": null,
            "grid_row": null,
            "grid_template_areas": null,
            "grid_template_columns": null,
            "grid_template_rows": null,
            "height": null,
            "justify_content": null,
            "justify_items": null,
            "left": null,
            "margin": null,
            "max_height": null,
            "max_width": null,
            "min_height": null,
            "min_width": null,
            "object_fit": null,
            "object_position": null,
            "order": null,
            "overflow": null,
            "overflow_x": null,
            "overflow_y": null,
            "padding": null,
            "right": null,
            "top": null,
            "visibility": null,
            "width": null
          }
        },
        "e9cedcbe8fe049759ff1263e9700bc36": {
          "model_module": "@jupyter-widgets/controls",
          "model_module_version": "1.5.0",
          "model_name": "HTMLModel",
          "state": {
            "_dom_classes": [],
            "_model_module": "@jupyter-widgets/controls",
            "_model_module_version": "1.5.0",
            "_model_name": "HTMLModel",
            "_view_count": null,
            "_view_module": "@jupyter-widgets/controls",
            "_view_module_version": "1.5.0",
            "_view_name": "HTMLView",
            "description": "",
            "description_tooltip": null,
            "layout": "IPY_MODEL_c4fbc401280442239c9e2cbd0f482a08",
            "placeholder": "​",
            "style": "IPY_MODEL_62ecb82f77374d138b937307f3da141c",
            "value": "tokenizer_config.json: 100%"
          }
        },
        "ebcb525af1c047bfa01303aff8540edf": {
          "model_module": "@jupyter-widgets/base",
          "model_module_version": "1.2.0",
          "model_name": "LayoutModel",
          "state": {
            "_model_module": "@jupyter-widgets/base",
            "_model_module_version": "1.2.0",
            "_model_name": "LayoutModel",
            "_view_count": null,
            "_view_module": "@jupyter-widgets/base",
            "_view_module_version": "1.2.0",
            "_view_name": "LayoutView",
            "align_content": null,
            "align_items": null,
            "align_self": null,
            "border": null,
            "bottom": null,
            "display": null,
            "flex": null,
            "flex_flow": null,
            "grid_area": null,
            "grid_auto_columns": null,
            "grid_auto_flow": null,
            "grid_auto_rows": null,
            "grid_column": null,
            "grid_gap": null,
            "grid_row": null,
            "grid_template_areas": null,
            "grid_template_columns": null,
            "grid_template_rows": null,
            "height": null,
            "justify_content": null,
            "justify_items": null,
            "left": null,
            "margin": null,
            "max_height": null,
            "max_width": null,
            "min_height": null,
            "min_width": null,
            "object_fit": null,
            "object_position": null,
            "order": null,
            "overflow": null,
            "overflow_x": null,
            "overflow_y": null,
            "padding": null,
            "right": null,
            "top": null,
            "visibility": null,
            "width": null
          }
        },
        "eca817ce7f1b464f9257f21af35f3c72": {
          "model_module": "@jupyter-widgets/controls",
          "model_module_version": "1.5.0",
          "model_name": "DescriptionStyleModel",
          "state": {
            "_model_module": "@jupyter-widgets/controls",
            "_model_module_version": "1.5.0",
            "_model_name": "DescriptionStyleModel",
            "_view_count": null,
            "_view_module": "@jupyter-widgets/base",
            "_view_module_version": "1.2.0",
            "_view_name": "StyleView",
            "description_width": ""
          }
        },
        "eeb5f323e20c48d8927cddb761b2ac27": {
          "model_module": "@jupyter-widgets/controls",
          "model_module_version": "1.5.0",
          "model_name": "FloatProgressModel",
          "state": {
            "_dom_classes": [],
            "_model_module": "@jupyter-widgets/controls",
            "_model_module_version": "1.5.0",
            "_model_name": "FloatProgressModel",
            "_view_count": null,
            "_view_module": "@jupyter-widgets/controls",
            "_view_module_version": "1.5.0",
            "_view_name": "ProgressView",
            "bar_style": "success",
            "description": "",
            "description_tooltip": null,
            "layout": "IPY_MODEL_4c6f1c7485bd483a8679734bc9929be6",
            "max": 9085657,
            "min": 0,
            "orientation": "horizontal",
            "style": "IPY_MODEL_5acfd92706534467aa43d20a71c20911",
            "value": 9085657
          }
        },
        "eecd99b4a71b41eda8418c38c5bbcd5b": {
          "model_module": "@jupyter-widgets/controls",
          "model_module_version": "1.5.0",
          "model_name": "HTMLModel",
          "state": {
            "_dom_classes": [],
            "_model_module": "@jupyter-widgets/controls",
            "_model_module_version": "1.5.0",
            "_model_name": "HTMLModel",
            "_view_count": null,
            "_view_module": "@jupyter-widgets/controls",
            "_view_module_version": "1.5.0",
            "_view_name": "HTMLView",
            "description": "",
            "description_tooltip": null,
            "layout": "IPY_MODEL_08a3b0ceb8d14b38a28913a05c371bba",
            "placeholder": "​",
            "style": "IPY_MODEL_f5b25b4bcbd64ff9b089e9f1e35b4ab3",
            "value": " 9.09M/9.09M [00:01&lt;00:00, 8.18MB/s]"
          }
        },
        "f2c047752bb541e2a08108f295968e57": {
          "model_module": "@jupyter-widgets/base",
          "model_module_version": "1.2.0",
          "model_name": "LayoutModel",
          "state": {
            "_model_module": "@jupyter-widgets/base",
            "_model_module_version": "1.2.0",
            "_model_name": "LayoutModel",
            "_view_count": null,
            "_view_module": "@jupyter-widgets/base",
            "_view_module_version": "1.2.0",
            "_view_name": "LayoutView",
            "align_content": null,
            "align_items": null,
            "align_self": null,
            "border": null,
            "bottom": null,
            "display": null,
            "flex": null,
            "flex_flow": null,
            "grid_area": null,
            "grid_auto_columns": null,
            "grid_auto_flow": null,
            "grid_auto_rows": null,
            "grid_column": null,
            "grid_gap": null,
            "grid_row": null,
            "grid_template_areas": null,
            "grid_template_columns": null,
            "grid_template_rows": null,
            "height": null,
            "justify_content": null,
            "justify_items": null,
            "left": null,
            "margin": null,
            "max_height": null,
            "max_width": null,
            "min_height": null,
            "min_width": null,
            "object_fit": null,
            "object_position": null,
            "order": null,
            "overflow": null,
            "overflow_x": null,
            "overflow_y": null,
            "padding": null,
            "right": null,
            "top": null,
            "visibility": null,
            "width": null
          }
        },
        "f5b25b4bcbd64ff9b089e9f1e35b4ab3": {
          "model_module": "@jupyter-widgets/controls",
          "model_module_version": "1.5.0",
          "model_name": "DescriptionStyleModel",
          "state": {
            "_model_module": "@jupyter-widgets/controls",
            "_model_module_version": "1.5.0",
            "_model_name": "DescriptionStyleModel",
            "_view_count": null,
            "_view_module": "@jupyter-widgets/base",
            "_view_module_version": "1.2.0",
            "_view_name": "StyleView",
            "description_width": ""
          }
        },
        "f5f610efebb04fe48e6265e1b1bc2e1b": {
          "model_module": "@jupyter-widgets/base",
          "model_module_version": "1.2.0",
          "model_name": "LayoutModel",
          "state": {
            "_model_module": "@jupyter-widgets/base",
            "_model_module_version": "1.2.0",
            "_model_name": "LayoutModel",
            "_view_count": null,
            "_view_module": "@jupyter-widgets/base",
            "_view_module_version": "1.2.0",
            "_view_name": "LayoutView",
            "align_content": null,
            "align_items": null,
            "align_self": null,
            "border": null,
            "bottom": null,
            "display": null,
            "flex": null,
            "flex_flow": null,
            "grid_area": null,
            "grid_auto_columns": null,
            "grid_auto_flow": null,
            "grid_auto_rows": null,
            "grid_column": null,
            "grid_gap": null,
            "grid_row": null,
            "grid_template_areas": null,
            "grid_template_columns": null,
            "grid_template_rows": null,
            "height": null,
            "justify_content": null,
            "justify_items": null,
            "left": null,
            "margin": null,
            "max_height": null,
            "max_width": null,
            "min_height": null,
            "min_width": null,
            "object_fit": null,
            "object_position": null,
            "order": null,
            "overflow": null,
            "overflow_x": null,
            "overflow_y": null,
            "padding": null,
            "right": null,
            "top": null,
            "visibility": null,
            "width": null
          }
        },
        "f6153841133c49a58b05258787656e13": {
          "model_module": "@jupyter-widgets/base",
          "model_module_version": "1.2.0",
          "model_name": "LayoutModel",
          "state": {
            "_model_module": "@jupyter-widgets/base",
            "_model_module_version": "1.2.0",
            "_model_name": "LayoutModel",
            "_view_count": null,
            "_view_module": "@jupyter-widgets/base",
            "_view_module_version": "1.2.0",
            "_view_name": "LayoutView",
            "align_content": null,
            "align_items": null,
            "align_self": null,
            "border": null,
            "bottom": null,
            "display": null,
            "flex": null,
            "flex_flow": null,
            "grid_area": null,
            "grid_auto_columns": null,
            "grid_auto_flow": null,
            "grid_auto_rows": null,
            "grid_column": null,
            "grid_gap": null,
            "grid_row": null,
            "grid_template_areas": null,
            "grid_template_columns": null,
            "grid_template_rows": null,
            "height": null,
            "justify_content": null,
            "justify_items": null,
            "left": null,
            "margin": null,
            "max_height": null,
            "max_width": null,
            "min_height": null,
            "min_width": null,
            "object_fit": null,
            "object_position": null,
            "order": null,
            "overflow": null,
            "overflow_x": null,
            "overflow_y": null,
            "padding": null,
            "right": null,
            "top": null,
            "visibility": null,
            "width": null
          }
        },
        "f89f03db528247d8a8ee42072d818e4e": {
          "model_module": "@jupyter-widgets/base",
          "model_module_version": "1.2.0",
          "model_name": "LayoutModel",
          "state": {
            "_model_module": "@jupyter-widgets/base",
            "_model_module_version": "1.2.0",
            "_model_name": "LayoutModel",
            "_view_count": null,
            "_view_module": "@jupyter-widgets/base",
            "_view_module_version": "1.2.0",
            "_view_name": "LayoutView",
            "align_content": null,
            "align_items": null,
            "align_self": null,
            "border": null,
            "bottom": null,
            "display": null,
            "flex": null,
            "flex_flow": null,
            "grid_area": null,
            "grid_auto_columns": null,
            "grid_auto_flow": null,
            "grid_auto_rows": null,
            "grid_column": null,
            "grid_gap": null,
            "grid_row": null,
            "grid_template_areas": null,
            "grid_template_columns": null,
            "grid_template_rows": null,
            "height": null,
            "justify_content": null,
            "justify_items": null,
            "left": null,
            "margin": null,
            "max_height": null,
            "max_width": null,
            "min_height": null,
            "min_width": null,
            "object_fit": null,
            "object_position": null,
            "order": null,
            "overflow": null,
            "overflow_x": null,
            "overflow_y": null,
            "padding": null,
            "right": null,
            "top": null,
            "visibility": null,
            "width": null
          }
        },
        "f8b90274efc14aef828b5da3e6444252": {
          "model_module": "@jupyter-widgets/controls",
          "model_module_version": "1.5.0",
          "model_name": "HTMLModel",
          "state": {
            "_dom_classes": [],
            "_model_module": "@jupyter-widgets/controls",
            "_model_module_version": "1.5.0",
            "_model_name": "HTMLModel",
            "_view_count": null,
            "_view_module": "@jupyter-widgets/controls",
            "_view_module_version": "1.5.0",
            "_view_name": "HTMLView",
            "description": "",
            "description_tooltip": null,
            "layout": "IPY_MODEL_2f31437573e547cd8c009db3c45d6288",
            "placeholder": "​",
            "style": "IPY_MODEL_4e5f8757170144959c400ab455359486",
            "value": " 189/189 [00:00&lt;00:00, 21.0kB/s]"
          }
        },
        "f93f550365e5423d9c98a89d5bd685d9": {
          "model_module": "@jupyter-widgets/base",
          "model_module_version": "1.2.0",
          "model_name": "LayoutModel",
          "state": {
            "_model_module": "@jupyter-widgets/base",
            "_model_module_version": "1.2.0",
            "_model_name": "LayoutModel",
            "_view_count": null,
            "_view_module": "@jupyter-widgets/base",
            "_view_module_version": "1.2.0",
            "_view_name": "LayoutView",
            "align_content": null,
            "align_items": null,
            "align_self": null,
            "border": null,
            "bottom": null,
            "display": null,
            "flex": null,
            "flex_flow": null,
            "grid_area": null,
            "grid_auto_columns": null,
            "grid_auto_flow": null,
            "grid_auto_rows": null,
            "grid_column": null,
            "grid_gap": null,
            "grid_row": null,
            "grid_template_areas": null,
            "grid_template_columns": null,
            "grid_template_rows": null,
            "height": null,
            "justify_content": null,
            "justify_items": null,
            "left": null,
            "margin": null,
            "max_height": null,
            "max_width": null,
            "min_height": null,
            "min_width": null,
            "object_fit": null,
            "object_position": null,
            "order": null,
            "overflow": null,
            "overflow_x": null,
            "overflow_y": null,
            "padding": null,
            "right": null,
            "top": null,
            "visibility": null,
            "width": null
          }
        },
        "fcc7b1f89481405996357b173dfa51f4": {
          "model_module": "@jupyter-widgets/base",
          "model_module_version": "1.2.0",
          "model_name": "LayoutModel",
          "state": {
            "_model_module": "@jupyter-widgets/base",
            "_model_module_version": "1.2.0",
            "_model_name": "LayoutModel",
            "_view_count": null,
            "_view_module": "@jupyter-widgets/base",
            "_view_module_version": "1.2.0",
            "_view_name": "LayoutView",
            "align_content": null,
            "align_items": null,
            "align_self": null,
            "border": null,
            "bottom": null,
            "display": null,
            "flex": null,
            "flex_flow": null,
            "grid_area": null,
            "grid_auto_columns": null,
            "grid_auto_flow": null,
            "grid_auto_rows": null,
            "grid_column": null,
            "grid_gap": null,
            "grid_row": null,
            "grid_template_areas": null,
            "grid_template_columns": null,
            "grid_template_rows": null,
            "height": null,
            "justify_content": null,
            "justify_items": null,
            "left": null,
            "margin": null,
            "max_height": null,
            "max_width": null,
            "min_height": null,
            "min_width": null,
            "object_fit": null,
            "object_position": null,
            "order": null,
            "overflow": null,
            "overflow_x": null,
            "overflow_y": null,
            "padding": null,
            "right": null,
            "top": null,
            "visibility": null,
            "width": null
          }
        },
        "fe42aa556b6a4df785c06bd15d625f8d": {
          "model_module": "@jupyter-widgets/controls",
          "model_module_version": "1.5.0",
          "model_name": "HTMLModel",
          "state": {
            "_dom_classes": [],
            "_model_module": "@jupyter-widgets/controls",
            "_model_module_version": "1.5.0",
            "_model_name": "HTMLModel",
            "_view_count": null,
            "_view_module": "@jupyter-widgets/controls",
            "_view_module_version": "1.5.0",
            "_view_name": "HTMLView",
            "description": "",
            "description_tooltip": null,
            "layout": "IPY_MODEL_a9f5b38cec004797ade10d31e2586bd0",
            "placeholder": "​",
            "style": "IPY_MODEL_a16ccbc5687a4c80aa56b789207a847d",
            "value": " 2/2 [07:42&lt;00:00, 462.91s/it]"
          }
        }
      }
    }
  },
  "nbformat": 4,
  "nbformat_minor": 0
}
